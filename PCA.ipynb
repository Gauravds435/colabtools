{
  "nbformat": 4,
  "nbformat_minor": 0,
  "metadata": {
    "colab": {
      "name": "PCA.ipynb",
      "provenance": [],
      "collapsed_sections": [],
      "authorship_tag": "ABX9TyN20d3vA+bp1ifHSVCrNqnd",
      "include_colab_link": true
    },
    "kernelspec": {
      "name": "python3",
      "display_name": "Python 3"
    }
  },
  "cells": [
    {
      "cell_type": "markdown",
      "metadata": {
        "id": "view-in-github",
        "colab_type": "text"
      },
      "source": [
        "<a href=\"https://colab.research.google.com/github/Gauravds435/colabtools/blob/master/PCA.ipynb\" target=\"_parent\"><img src=\"https://colab.research.google.com/assets/colab-badge.svg\" alt=\"Open In Colab\"/></a>"
      ]
    },
    {
      "cell_type": "code",
      "metadata": {
        "id": "rfts0MVw4dMU"
      },
      "source": [
        "from numpy import array\n",
        "from numpy import mean\n",
        "from numpy import cov\n",
        "from numpy.linalg import eig\n",
        "import pandas as pd"
      ],
      "execution_count": 1,
      "outputs": []
    },
    {
      "cell_type": "code",
      "metadata": {
        "colab": {
          "base_uri": "https://localhost:8080/"
        },
        "id": "JEAGaKGk5w6N",
        "outputId": "6f318272-2935-4049-fcd3-149fab4686a7"
      },
      "source": [
        "A = array([[2.5, 2.4],\n",
        "          [0.5, 0.7],\n",
        "          [2.2, 2.9],\n",
        "          [1.9, 2.2],\n",
        "          [3.1, 3.0],\n",
        "          [2.3, 2.7],\n",
        "          [2, 1.6],\n",
        "          [1, 1.1],\n",
        "          [1.5, 1.6],\n",
        "          [1.1, 0.9]])\n",
        "print(A)"
      ],
      "execution_count": 6,
      "outputs": [
        {
          "output_type": "stream",
          "text": [
            "[[2.5 2.4]\n",
            " [0.5 0.7]\n",
            " [2.2 2.9]\n",
            " [1.9 2.2]\n",
            " [3.1 3. ]\n",
            " [2.3 2.7]\n",
            " [2.  1.6]\n",
            " [1.  1.1]\n",
            " [1.5 1.6]\n",
            " [1.1 0.9]]\n"
          ],
          "name": "stdout"
        }
      ]
    },
    {
      "cell_type": "code",
      "metadata": {
        "colab": {
          "base_uri": "https://localhost:8080/"
        },
        "id": "CeSk2T88-5Z5",
        "outputId": "0f169ea1-57a5-47b6-f17e-5eaef1d60985"
      },
      "source": [
        "M = mean(A.T, axis=1)\n",
        "print(M)"
      ],
      "execution_count": 7,
      "outputs": [
        {
          "output_type": "stream",
          "text": [
            "[1.81 1.91]\n"
          ],
          "name": "stdout"
        }
      ]
    },
    {
      "cell_type": "code",
      "metadata": {
        "colab": {
          "base_uri": "https://localhost:8080/"
        },
        "id": "KiIynTEM_Hxs",
        "outputId": "ef39fb90-b6f1-46e0-f6c4-464edc7ae241"
      },
      "source": [
        "C = A - M\n",
        "print(C)"
      ],
      "execution_count": 8,
      "outputs": [
        {
          "output_type": "stream",
          "text": [
            "[[ 0.69  0.49]\n",
            " [-1.31 -1.21]\n",
            " [ 0.39  0.99]\n",
            " [ 0.09  0.29]\n",
            " [ 1.29  1.09]\n",
            " [ 0.49  0.79]\n",
            " [ 0.19 -0.31]\n",
            " [-0.81 -0.81]\n",
            " [-0.31 -0.31]\n",
            " [-0.71 -1.01]]\n"
          ],
          "name": "stdout"
        }
      ]
    },
    {
      "cell_type": "code",
      "metadata": {
        "colab": {
          "base_uri": "https://localhost:8080/"
        },
        "id": "hBfs1RoI_WKy",
        "outputId": "27c1ff33-be7f-4818-8377-6adbde049739"
      },
      "source": [
        "V = cov(C.T)\n",
        "print(V)"
      ],
      "execution_count": 9,
      "outputs": [
        {
          "output_type": "stream",
          "text": [
            "[[0.61655556 0.61544444]\n",
            " [0.61544444 0.71655556]]\n"
          ],
          "name": "stdout"
        }
      ]
    },
    {
      "cell_type": "code",
      "metadata": {
        "colab": {
          "base_uri": "https://localhost:8080/"
        },
        "id": "M7NdhD9iCapB",
        "outputId": "481ef9a6-3c30-4932-8d54-6e3391418f1c"
      },
      "source": [
        "values, vectors = eig(V)\n",
        "print(values)\n",
        "print(vectors)"
      ],
      "execution_count": 10,
      "outputs": [
        {
          "output_type": "stream",
          "text": [
            "[0.0490834  1.28402771]\n",
            "[[-0.73517866 -0.6778734 ]\n",
            " [ 0.6778734  -0.73517866]]\n"
          ],
          "name": "stdout"
        }
      ]
    },
    {
      "cell_type": "code",
      "metadata": {
        "colab": {
          "base_uri": "https://localhost:8080/"
        },
        "id": "FMiPKBQNDMa-",
        "outputId": "d9500da3-cd8a-40ab-b818-d5ebd3cba2a9"
      },
      "source": [
        "P = vectors.T.dot(C.T)\n",
        "print(P.T)"
      ],
      "execution_count": 11,
      "outputs": [
        {
          "output_type": "stream",
          "text": [
            "[[-0.17511531 -0.82797019]\n",
            " [ 0.14285723  1.77758033]\n",
            " [ 0.38437499 -0.99219749]\n",
            " [ 0.13041721 -0.27421042]\n",
            " [-0.20949846 -1.67580142]\n",
            " [ 0.17528244 -0.9129491 ]\n",
            " [-0.3498247   0.09910944]\n",
            " [ 0.04641726  1.14457216]\n",
            " [ 0.01776463  0.43804614]\n",
            " [-0.16267529  1.22382056]]\n"
          ],
          "name": "stdout"
        }
      ]
    },
    {
      "cell_type": "code",
      "metadata": {
        "colab": {
          "base_uri": "https://localhost:8080/"
        },
        "id": "TOrEdzeIDgGX",
        "outputId": "55553f74-11ea-48de-a4b3-46862dddc784"
      },
      "source": [
        "from sklearn.decomposition import PCA\n",
        "pca = PCA(2)\n",
        "pca.fit_transform(A)\n",
        "print(pca.components_)\n",
        "print(pca.explained_variance_)\n",
        "B = pca.transform(A)\n",
        "print(B)"
      ],
      "execution_count": 19,
      "outputs": [
        {
          "output_type": "stream",
          "text": [
            "[[-0.6778734  -0.73517866]\n",
            " [-0.73517866  0.6778734 ]]\n",
            "[1.28402771 0.0490834 ]\n",
            "[[-0.82797019 -0.17511531]\n",
            " [ 1.77758033  0.14285723]\n",
            " [-0.99219749  0.38437499]\n",
            " [-0.27421042  0.13041721]\n",
            " [-1.67580142 -0.20949846]\n",
            " [-0.9129491   0.17528244]\n",
            " [ 0.09910944 -0.3498247 ]\n",
            " [ 1.14457216  0.04641726]\n",
            " [ 0.43804614  0.01776463]\n",
            " [ 1.22382056 -0.16267529]]\n"
          ],
          "name": "stdout"
        }
      ]
    }
  ]
}