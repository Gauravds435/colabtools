{
  "nbformat": 4,
  "nbformat_minor": 0,
  "metadata": {
    "colab": {
      "name": "MultipleLinearRegression.ipynb",
      "provenance": [],
      "authorship_tag": "ABX9TyPFsczsIiRuGM9Etuhrw2vU",
      "include_colab_link": true
    },
    "kernelspec": {
      "name": "python3",
      "display_name": "Python 3"
    }
  },
  "cells": [
    {
      "cell_type": "markdown",
      "metadata": {
        "id": "view-in-github",
        "colab_type": "text"
      },
      "source": [
        "<a href=\"https://colab.research.google.com/github/Gauravds435/colabtools/blob/master/MultipleLinearRegression.ipynb\" target=\"_parent\"><img src=\"https://colab.research.google.com/assets/colab-badge.svg\" alt=\"Open In Colab\"/></a>"
      ]
    },
    {
      "cell_type": "code",
      "metadata": {
        "id": "xJGXR233U2Av",
        "outputId": "e29fcb15-facb-4317-983d-26cd3c4af89a",
        "colab": {
          "base_uri": "https://localhost:8080/",
          "height": 71
        }
      },
      "source": [
        "import pandas as pd\n",
        "import numpy as np\n",
        "import seaborn as sns\n",
        "import statsmodels.api as sm\n",
        "import math\n",
        "import matplotlib.pyplot as plt"
      ],
      "execution_count": 16,
      "outputs": [
        {
          "output_type": "stream",
          "text": [
            "/usr/local/lib/python3.6/dist-packages/statsmodels/tools/_testing.py:19: FutureWarning: pandas.util.testing is deprecated. Use the functions in the public API at pandas.testing instead.\n",
            "  import pandas.util.testing as tm\n"
          ],
          "name": "stderr"
        }
      ]
    },
    {
      "cell_type": "code",
      "metadata": {
        "id": "RYpIxTHNXLqm"
      },
      "source": [
        "import pandas as pd\n",
        "from google.colab import files"
      ],
      "execution_count": 1,
      "outputs": []
    },
    {
      "cell_type": "code",
      "metadata": {
        "id": "8oC3QqPDX-Qs",
        "outputId": "0092d9fb-2b25-4b93-be6f-dc5bca3c002f",
        "colab": {
          "resources": {
            "http://localhost:8080/nbextensions/google.colab/files.js": {
              "data": "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",
              "ok": true,
              "headers": [
                [
                  "content-type",
                  "application/javascript"
                ]
              ],
              "status": 200,
              "status_text": ""
            }
          },
          "base_uri": "https://localhost:8080/",
          "height": 72
        }
      },
      "source": [
        "uploaded = files.upload()"
      ],
      "execution_count": 2,
      "outputs": [
        {
          "output_type": "display_data",
          "data": {
            "text/html": [
              "\n",
              "     <input type=\"file\" id=\"files-c7eb4de7-caf5-4def-80ba-8b0ebaba8666\" name=\"files[]\" multiple disabled\n",
              "        style=\"border:none\" />\n",
              "     <output id=\"result-c7eb4de7-caf5-4def-80ba-8b0ebaba8666\">\n",
              "      Upload widget is only available when the cell has been executed in the\n",
              "      current browser session. Please rerun this cell to enable.\n",
              "      </output>\n",
              "      <script src=\"/nbextensions/google.colab/files.js\"></script> "
            ],
            "text/plain": [
              "<IPython.core.display.HTML object>"
            ]
          },
          "metadata": {
            "tags": []
          }
        },
        {
          "output_type": "stream",
          "text": [
            "Saving Car Prices.csv to Car Prices.csv\n"
          ],
          "name": "stdout"
        }
      ]
    },
    {
      "cell_type": "code",
      "metadata": {
        "id": "7EWBeHQ0bExr",
        "outputId": "f1105518-dd0b-4b52-8e09-f776a05a6632",
        "colab": {
          "base_uri": "https://localhost:8080/",
          "height": 34
        }
      },
      "source": [
        "for fn in uploaded.keys():\n",
        "  print(\"User uploaded file'{name}' with length {length} bytes\".format(name = fn, length=len(uploaded[fn])))"
      ],
      "execution_count": 3,
      "outputs": [
        {
          "output_type": "stream",
          "text": [
            "User uploaded file'Car Prices.csv' with length 26717 bytes\n"
          ],
          "name": "stdout"
        }
      ]
    },
    {
      "cell_type": "code",
      "metadata": {
        "id": "9ULMKogubHvp",
        "outputId": "ba4d84f5-036d-4518-cf15-79796f9dbff9",
        "colab": {
          "base_uri": "https://localhost:8080/",
          "height": 54
        }
      },
      "source": [
        "uploaded"
      ],
      "execution_count": 4,
      "outputs": [
        {
          "output_type": "execute_result",
          "data": {
            "text/plain": [
              "{'Car Prices.csv': b'car_ID,symboling,CarName,fueltype,aspiration,doornumber,carbody,drivewheel,enginelocation,wheelbase,carlength,carwidth,carheight,curbweight,enginetype,cylindernumber,enginesize,fuelsystem,boreratio,stroke,compressionratio,horsepower,peakrpm,citympg,highwaympg,price\\r\\n1,3,alfa-romero giulia,gas,std,two,convertible,rwd,front,88.6,168.8,64.1,48.8,2548,dohc,four,130,mpfi,3.47,2.68,9,111,5000,21,27,13495\\r\\n2,3,alfa-romero stelvio,gas,std,two,convertible,rwd,front,88.6,168.8,64.1,48.8,2548,dohc,four,130,mpfi,3.47,2.68,9,111,5000,21,27,16500\\r\\n3,1,alfa-romero Quadrifoglio,gas,std,two,hatchback,rwd,front,94.5,171.2,65.5,52.4,2823,ohcv,six,152,mpfi,2.68,3.47,9,154,5000,19,26,16500\\r\\n4,2,audi 100 ls,gas,std,four,sedan,fwd,front,99.8,176.6,66.2,54.3,2337,ohc,four,109,mpfi,3.19,3.4,10,102,5500,24,30,13950\\r\\n5,2,audi 100ls,gas,std,four,sedan,4wd,front,99.4,176.6,66.4,54.3,2824,ohc,five,136,mpfi,3.19,3.4,8,115,5500,18,22,17450\\r\\n6,2,audi fox,gas,std,two,sedan,fwd,front,99.8,177.3,66.3,53.1,2507,ohc,five,136,mpfi,3.19,3.4,8.5,110,5500,19,25,15250\\r\\n7,1,audi 100ls,gas,std,four,sedan,fwd,front,105.8,192.7,71.4,55.7,2844,ohc,five,136,mpfi,3.19,3.4,8.5,110,5500,19,25,17710\\r\\n8,1,audi 5000,gas,std,four,wagon,fwd,front,105.8,192.7,71.4,55.7,2954,ohc,five,136,mpfi,3.19,3.4,8.5,110,5500,19,25,18920\\r\\n9,1,audi 4000,gas,turbo,four,sedan,fwd,front,105.8,192.7,71.4,55.9,3086,ohc,five,131,mpfi,3.13,3.4,8.3,140,5500,17,20,23875\\r\\n10,0,audi 5000s (diesel),gas,turbo,two,hatchback,4wd,front,99.5,178.2,67.9,52,3053,ohc,five,131,mpfi,3.13,3.4,7,160,5500,16,22,17859.167\\r\\n11,2,bmw 320i,gas,std,two,sedan,rwd,front,101.2,176.8,64.8,54.3,2395,ohc,four,108,mpfi,3.5,2.8,8.8,101,5800,23,29,16430\\r\\n12,0,bmw 320i,gas,std,four,sedan,rwd,front,101.2,176.8,64.8,54.3,2395,ohc,four,108,mpfi,3.5,2.8,8.8,101,5800,23,29,16925\\r\\n13,0,bmw x1,gas,std,two,sedan,rwd,front,101.2,176.8,64.8,54.3,2710,ohc,six,164,mpfi,3.31,3.19,9,121,4250,21,28,20970\\r\\n14,0,bmw x3,gas,std,four,sedan,rwd,front,101.2,176.8,64.8,54.3,2765,ohc,six,164,mpfi,3.31,3.19,9,121,4250,21,28,21105\\r\\n15,1,bmw z4,gas,std,four,sedan,rwd,front,103.5,189,66.9,55.7,3055,ohc,six,164,mpfi,3.31,3.19,9,121,4250,20,25,24565\\r\\n16,0,bmw x4,gas,std,four,sedan,rwd,front,103.5,189,66.9,55.7,3230,ohc,six,209,mpfi,3.62,3.39,8,182,5400,16,22,30760\\r\\n17,0,bmw x5,gas,std,two,sedan,rwd,front,103.5,193.8,67.9,53.7,3380,ohc,six,209,mpfi,3.62,3.39,8,182,5400,16,22,41315\\r\\n18,0,bmw x3,gas,std,four,sedan,rwd,front,110,197,70.9,56.3,3505,ohc,six,209,mpfi,3.62,3.39,8,182,5400,15,20,36880\\r\\n19,2,chevrolet impala,gas,std,two,hatchback,fwd,front,88.4,141.1,60.3,53.2,1488,l,three,61,2bbl,2.91,3.03,9.5,48,5100,47,53,5151\\r\\n20,1,chevrolet monte carlo,gas,std,two,hatchback,fwd,front,94.5,155.9,63.6,52,1874,ohc,four,90,2bbl,3.03,3.11,9.6,70,5400,38,43,6295\\r\\n21,0,chevrolet vega 2300,gas,std,four,sedan,fwd,front,94.5,158.8,63.6,52,1909,ohc,four,90,2bbl,3.03,3.11,9.6,70,5400,38,43,6575\\r\\n22,1,dodge rampage,gas,std,two,hatchback,fwd,front,93.7,157.3,63.8,50.8,1876,ohc,four,90,2bbl,2.97,3.23,9.41,68,5500,37,41,5572\\r\\n23,1,dodge challenger se,gas,std,two,hatchback,fwd,front,93.7,157.3,63.8,50.8,1876,ohc,four,90,2bbl,2.97,3.23,9.4,68,5500,31,38,6377\\r\\n24,1,dodge d200,gas,turbo,two,hatchback,fwd,front,93.7,157.3,63.8,50.8,2128,ohc,four,98,mpfi,3.03,3.39,7.6,102,5500,24,30,7957\\r\\n25,1,dodge monaco (sw),gas,std,four,hatchback,fwd,front,93.7,157.3,63.8,50.6,1967,ohc,four,90,2bbl,2.97,3.23,9.4,68,5500,31,38,6229\\r\\n26,1,dodge colt hardtop,gas,std,four,sedan,fwd,front,93.7,157.3,63.8,50.6,1989,ohc,four,90,2bbl,2.97,3.23,9.4,68,5500,31,38,6692\\r\\n27,1,dodge colt (sw),gas,std,four,sedan,fwd,front,93.7,157.3,63.8,50.6,1989,ohc,four,90,2bbl,2.97,3.23,9.4,68,5500,31,38,7609\\r\\n28,1,dodge coronet custom,gas,turbo,two,sedan,fwd,front,93.7,157.3,63.8,50.6,2191,ohc,four,98,mpfi,3.03,3.39,7.6,102,5500,24,30,8558\\r\\n29,-1,dodge dart custom,gas,std,four,wagon,fwd,front,103.3,174.6,64.6,59.8,2535,ohc,four,122,2bbl,3.34,3.46,8.5,88,5000,24,30,8921\\r\\n30,3,dodge coronet custom (sw),gas,turbo,two,hatchback,fwd,front,95.9,173.2,66.3,50.2,2811,ohc,four,156,mfi,3.6,3.9,7,145,5000,19,24,12964\\r\\n31,2,honda civic,gas,std,two,hatchback,fwd,front,86.6,144.6,63.9,50.8,1713,ohc,four,92,1bbl,2.91,3.41,9.6,58,4800,49,54,6479\\r\\n32,2,honda civic cvcc,gas,std,two,hatchback,fwd,front,86.6,144.6,63.9,50.8,1819,ohc,four,92,1bbl,2.91,3.41,9.2,76,6000,31,38,6855\\r\\n33,1,honda civic,gas,std,two,hatchback,fwd,front,93.7,150,64,52.6,1837,ohc,four,79,1bbl,2.91,3.07,10.1,60,5500,38,42,5399\\r\\n34,1,honda accord cvcc,gas,std,two,hatchback,fwd,front,93.7,150,64,52.6,1940,ohc,four,92,1bbl,2.91,3.41,9.2,76,6000,30,34,6529\\r\\n35,1,honda civic cvcc,gas,std,two,hatchback,fwd,front,93.7,150,64,52.6,1956,ohc,four,92,1bbl,2.91,3.41,9.2,76,6000,30,34,7129\\r\\n36,0,honda accord lx,gas,std,four,sedan,fwd,front,96.5,163.4,64,54.5,2010,ohc,four,92,1bbl,2.91,3.41,9.2,76,6000,30,34,7295\\r\\n37,0,honda civic 1500 gl,gas,std,four,wagon,fwd,front,96.5,157.1,63.9,58.3,2024,ohc,four,92,1bbl,2.92,3.41,9.2,76,6000,30,34,7295\\r\\n38,0,honda accord,gas,std,two,hatchback,fwd,front,96.5,167.5,65.2,53.3,2236,ohc,four,110,1bbl,3.15,3.58,9,86,5800,27,33,7895\\r\\n39,0,honda civic 1300,gas,std,two,hatchback,fwd,front,96.5,167.5,65.2,53.3,2289,ohc,four,110,1bbl,3.15,3.58,9,86,5800,27,33,9095\\r\\n40,0,honda prelude,gas,std,four,sedan,fwd,front,96.5,175.4,65.2,54.1,2304,ohc,four,110,1bbl,3.15,3.58,9,86,5800,27,33,8845\\r\\n41,0,honda accord,gas,std,four,sedan,fwd,front,96.5,175.4,62.5,54.1,2372,ohc,four,110,1bbl,3.15,3.58,9,86,5800,27,33,10295\\r\\n42,0,honda civic,gas,std,four,sedan,fwd,front,96.5,175.4,65.2,54.1,2465,ohc,four,110,mpfi,3.15,3.58,9,101,5800,24,28,12945\\r\\n43,1,honda civic (auto),gas,std,two,sedan,fwd,front,96.5,169.1,66,51,2293,ohc,four,110,2bbl,3.15,3.58,9.1,100,5500,25,31,10345\\r\\n44,0,isuzu MU-X,gas,std,four,sedan,rwd,front,94.3,170.7,61.8,53.5,2337,ohc,four,111,2bbl,3.31,3.23,8.5,78,4800,24,29,6785\\r\\n45,1,isuzu D-Max ,gas,std,two,sedan,fwd,front,94.5,155.9,63.6,52,1874,ohc,four,90,2bbl,3.03,3.11,9.6,70,5400,38,43,8916.5\\r\\n46,0,isuzu D-Max V-Cross,gas,std,four,sedan,fwd,front,94.5,155.9,63.6,52,1909,ohc,four,90,2bbl,3.03,3.11,9.6,70,5400,38,43,8916.5\\r\\n47,2,isuzu D-Max ,gas,std,two,hatchback,rwd,front,96,172.6,65.2,51.4,2734,ohc,four,119,spfi,3.43,3.23,9.2,90,5000,24,29,11048\\r\\n48,0,jaguar xj,gas,std,four,sedan,rwd,front,113,199.6,69.6,52.8,4066,dohc,six,258,mpfi,3.63,4.17,8.1,176,4750,15,19,32250\\r\\n49,0,jaguar xf,gas,std,four,sedan,rwd,front,113,199.6,69.6,52.8,4066,dohc,six,258,mpfi,3.63,4.17,8.1,176,4750,15,19,35550\\r\\n50,0,jaguar xk,gas,std,two,sedan,rwd,front,102,191.7,70.6,47.8,3950,ohcv,twelve,326,mpfi,3.54,2.76,11.5,262,5000,13,17,36000\\r\\n51,1,maxda rx3,gas,std,two,hatchback,fwd,front,93.1,159.1,64.2,54.1,1890,ohc,four,91,2bbl,3.03,3.15,9,68,5000,30,31,5195\\r\\n52,1,maxda glc deluxe,gas,std,two,hatchback,fwd,front,93.1,159.1,64.2,54.1,1900,ohc,four,91,2bbl,3.03,3.15,9,68,5000,31,38,6095\\r\\n53,1,mazda rx2 coupe,gas,std,two,hatchback,fwd,front,93.1,159.1,64.2,54.1,1905,ohc,four,91,2bbl,3.03,3.15,9,68,5000,31,38,6795\\r\\n54,1,mazda rx-4,gas,std,four,sedan,fwd,front,93.1,166.8,64.2,54.1,1945,ohc,four,91,2bbl,3.03,3.15,9,68,5000,31,38,6695\\r\\n55,1,mazda glc deluxe,gas,std,four,sedan,fwd,front,93.1,166.8,64.2,54.1,1950,ohc,four,91,2bbl,3.08,3.15,9,68,5000,31,38,7395\\r\\n56,3,mazda 626,gas,std,two,hatchback,rwd,front,95.3,169,65.7,49.6,2380,rotor,two,70,4bbl,3.33,3.255,9.4,101,6000,17,23,10945\\r\\n57,3,mazda glc,gas,std,two,hatchback,rwd,front,95.3,169,65.7,49.6,2380,rotor,two,70,4bbl,3.33,3.255,9.4,101,6000,17,23,11845\\r\\n58,3,mazda rx-7 gs,gas,std,two,hatchback,rwd,front,95.3,169,65.7,49.6,2385,rotor,two,70,4bbl,3.33,3.255,9.4,101,6000,17,23,13645\\r\\n59,3,mazda glc 4,gas,std,two,hatchback,rwd,front,95.3,169,65.7,49.6,2500,rotor,two,80,mpfi,3.33,3.255,9.4,135,6000,16,23,15645\\r\\n60,1,mazda 626,gas,std,two,hatchback,fwd,front,98.8,177.8,66.5,53.7,2385,ohc,four,122,2bbl,3.39,3.39,8.6,84,4800,26,32,8845\\r\\n61,0,mazda glc custom l,gas,std,four,sedan,fwd,front,98.8,177.8,66.5,55.5,2410,ohc,four,122,2bbl,3.39,3.39,8.6,84,4800,26,32,8495\\r\\n62,1,mazda glc custom,gas,std,two,hatchback,fwd,front,98.8,177.8,66.5,53.7,2385,ohc,four,122,2bbl,3.39,3.39,8.6,84,4800,26,32,10595\\r\\n63,0,mazda rx-4,gas,std,four,sedan,fwd,front,98.8,177.8,66.5,55.5,2410,ohc,four,122,2bbl,3.39,3.39,8.6,84,4800,26,32,10245\\r\\n64,0,mazda glc deluxe,diesel,std,four,sedan,fwd,front,98.8,177.8,66.5,55.5,2443,ohc,four,122,idi,3.39,3.39,22.7,64,4650,36,42,10795\\r\\n65,0,mazda 626,gas,std,four,hatchback,fwd,front,98.8,177.8,66.5,55.5,2425,ohc,four,122,2bbl,3.39,3.39,8.6,84,4800,26,32,11245\\r\\n66,0,mazda glc,gas,std,four,sedan,rwd,front,104.9,175,66.1,54.4,2670,ohc,four,140,mpfi,3.76,3.16,8,120,5000,19,27,18280\\r\\n67,0,mazda rx-7 gs,diesel,std,four,sedan,rwd,front,104.9,175,66.1,54.4,2700,ohc,four,134,idi,3.43,3.64,22,72,4200,31,39,18344\\r\\n68,-1,buick electra 225 custom,diesel,turbo,four,sedan,rwd,front,110,190.9,70.3,56.5,3515,ohc,five,183,idi,3.58,3.64,21.5,123,4350,22,25,25552\\r\\n69,-1,buick century luxus (sw),diesel,turbo,four,wagon,rwd,front,110,190.9,70.3,58.7,3750,ohc,five,183,idi,3.58,3.64,21.5,123,4350,22,25,28248\\r\\n70,0,buick century,diesel,turbo,two,hardtop,rwd,front,106.7,187.5,70.3,54.9,3495,ohc,five,183,idi,3.58,3.64,21.5,123,4350,22,25,28176\\r\\n71,-1,buick skyhawk,diesel,turbo,four,sedan,rwd,front,115.6,202.6,71.7,56.3,3770,ohc,five,183,idi,3.58,3.64,21.5,123,4350,22,25,31600\\r\\n72,-1,buick opel isuzu deluxe,gas,std,four,sedan,rwd,front,115.6,202.6,71.7,56.5,3740,ohcv,eight,234,mpfi,3.46,3.1,8.3,155,4750,16,18,34184\\r\\n73,3,buick skylark,gas,std,two,convertible,rwd,front,96.6,180.3,70.5,50.8,3685,ohcv,eight,234,mpfi,3.46,3.1,8.3,155,4750,16,18,35056\\r\\n74,0,buick century special,gas,std,four,sedan,rwd,front,120.9,208.1,71.7,56.7,3900,ohcv,eight,308,mpfi,3.8,3.35,8,184,4500,14,16,40960\\r\\n75,1,buick regal sport coupe (turbo),gas,std,two,hardtop,rwd,front,112,199.2,72,55.4,3715,ohcv,eight,304,mpfi,3.8,3.35,8,184,4500,14,16,45400\\r\\n76,1,mercury cougar,gas,turbo,two,hatchback,rwd,front,102.7,178.4,68,54.8,2910,ohc,four,140,mpfi,3.78,3.12,8,175,5000,19,24,16503\\r\\n77,2,mitsubishi mirage,gas,std,two,hatchback,fwd,front,93.7,157.3,64.4,50.8,1918,ohc,four,92,2bbl,2.97,3.23,9.4,68,5500,37,41,5389\\r\\n78,2,mitsubishi lancer,gas,std,two,hatchback,fwd,front,93.7,157.3,64.4,50.8,1944,ohc,four,92,2bbl,2.97,3.23,9.4,68,5500,31,38,6189\\r\\n79,2,mitsubishi outlander,gas,std,two,hatchback,fwd,front,93.7,157.3,64.4,50.8,2004,ohc,four,92,2bbl,2.97,3.23,9.4,68,5500,31,38,6669\\r\\n80,1,mitsubishi g4,gas,turbo,two,hatchback,fwd,front,93,157.3,63.8,50.8,2145,ohc,four,98,spdi,3.03,3.39,7.6,102,5500,24,30,7689\\r\\n81,3,mitsubishi mirage g4,gas,turbo,two,hatchback,fwd,front,96.3,173,65.4,49.4,2370,ohc,four,110,spdi,3.17,3.46,7.5,116,5500,23,30,9959\\r\\n82,3,mitsubishi g4,gas,std,two,hatchback,fwd,front,96.3,173,65.4,49.4,2328,ohc,four,122,2bbl,3.35,3.46,8.5,88,5000,25,32,8499\\r\\n83,3,mitsubishi outlander,gas,turbo,two,hatchback,fwd,front,95.9,173.2,66.3,50.2,2833,ohc,four,156,spdi,3.58,3.86,7,145,5000,19,24,12629\\r\\n84,3,mitsubishi g4,gas,turbo,two,hatchback,fwd,front,95.9,173.2,66.3,50.2,2921,ohc,four,156,spdi,3.59,3.86,7,145,5000,19,24,14869\\r\\n85,3,mitsubishi mirage g4,gas,turbo,two,hatchback,fwd,front,95.9,173.2,66.3,50.2,2926,ohc,four,156,spdi,3.59,3.86,7,145,5000,19,24,14489\\r\\n86,1,mitsubishi montero,gas,std,four,sedan,fwd,front,96.3,172.4,65.4,51.6,2365,ohc,four,122,2bbl,3.35,3.46,8.5,88,5000,25,32,6989\\r\\n87,1,mitsubishi pajero,gas,std,four,sedan,fwd,front,96.3,172.4,65.4,51.6,2405,ohc,four,122,2bbl,3.35,3.46,8.5,88,5000,25,32,8189\\r\\n88,1,mitsubishi outlander,gas,turbo,four,sedan,fwd,front,96.3,172.4,65.4,51.6,2403,ohc,four,110,spdi,3.17,3.46,7.5,116,5500,23,30,9279\\r\\n89,-1,mitsubishi mirage g4,gas,std,four,sedan,fwd,front,96.3,172.4,65.4,51.6,2403,ohc,four,110,spdi,3.17,3.46,7.5,116,5500,23,30,9279\\r\\n90,1,Nissan versa,gas,std,two,sedan,fwd,front,94.5,165.3,63.8,54.5,1889,ohc,four,97,2bbl,3.15,3.29,9.4,69,5200,31,37,5499\\r\\n91,1,nissan gt-r,diesel,std,two,sedan,fwd,front,94.5,165.3,63.8,54.5,2017,ohc,four,103,idi,2.99,3.47,21.9,55,4800,45,50,7099\\r\\n92,1,nissan rogue,gas,std,two,sedan,fwd,front,94.5,165.3,63.8,54.5,1918,ohc,four,97,2bbl,3.15,3.29,9.4,69,5200,31,37,6649\\r\\n93,1,nissan latio,gas,std,four,sedan,fwd,front,94.5,165.3,63.8,54.5,1938,ohc,four,97,2bbl,3.15,3.29,9.4,69,5200,31,37,6849\\r\\n94,1,nissan titan,gas,std,four,wagon,fwd,front,94.5,170.2,63.8,53.5,2024,ohc,four,97,2bbl,3.15,3.29,9.4,69,5200,31,37,7349\\r\\n95,1,nissan leaf,gas,std,two,sedan,fwd,front,94.5,165.3,63.8,54.5,1951,ohc,four,97,2bbl,3.15,3.29,9.4,69,5200,31,37,7299\\r\\n96,1,nissan juke,gas,std,two,hatchback,fwd,front,94.5,165.6,63.8,53.3,2028,ohc,four,97,2bbl,3.15,3.29,9.4,69,5200,31,37,7799\\r\\n97,1,nissan latio,gas,std,four,sedan,fwd,front,94.5,165.3,63.8,54.5,1971,ohc,four,97,2bbl,3.15,3.29,9.4,69,5200,31,37,7499\\r\\n98,1,nissan note,gas,std,four,wagon,fwd,front,94.5,170.2,63.8,53.5,2037,ohc,four,97,2bbl,3.15,3.29,9.4,69,5200,31,37,7999\\r\\n99,2,nissan clipper,gas,std,two,hardtop,fwd,front,95.1,162.4,63.8,53.3,2008,ohc,four,97,2bbl,3.15,3.29,9.4,69,5200,31,37,8249\\r\\n100,0,nissan rogue,gas,std,four,hatchback,fwd,front,97.2,173.4,65.2,54.7,2324,ohc,four,120,2bbl,3.33,3.47,8.5,97,5200,27,34,8949\\r\\n101,0,nissan nv200,gas,std,four,sedan,fwd,front,97.2,173.4,65.2,54.7,2302,ohc,four,120,2bbl,3.33,3.47,8.5,97,5200,27,34,9549\\r\\n102,0,nissan dayz,gas,std,four,sedan,fwd,front,100.4,181.7,66.5,55.1,3095,ohcv,six,181,mpfi,3.43,3.27,9,152,5200,17,22,13499\\r\\n103,0,nissan fuga,gas,std,four,wagon,fwd,front,100.4,184.6,66.5,56.1,3296,ohcv,six,181,mpfi,3.43,3.27,9,152,5200,17,22,14399\\r\\n104,0,nissan otti,gas,std,four,sedan,fwd,front,100.4,184.6,66.5,55.1,3060,ohcv,six,181,mpfi,3.43,3.27,9,152,5200,19,25,13499\\r\\n105,3,nissan teana,gas,std,two,hatchback,rwd,front,91.3,170.7,67.9,49.7,3071,ohcv,six,181,mpfi,3.43,3.27,9,160,5200,19,25,17199\\r\\n106,3,nissan kicks,gas,turbo,two,hatchback,rwd,front,91.3,170.7,67.9,49.7,3139,ohcv,six,181,mpfi,3.43,3.27,7.8,200,5200,17,23,19699\\r\\n107,1,nissan clipper,gas,std,two,hatchback,rwd,front,99.2,178.5,67.9,49.7,3139,ohcv,six,181,mpfi,3.43,3.27,9,160,5200,19,25,18399\\r\\n108,0,peugeot 504,gas,std,four,sedan,rwd,front,107.9,186.7,68.4,56.7,3020,l,four,120,mpfi,3.46,3.19,8.4,97,5000,19,24,11900\\r\\n109,0,peugeot 304,diesel,turbo,four,sedan,rwd,front,107.9,186.7,68.4,56.7,3197,l,four,152,idi,3.7,3.52,21,95,4150,28,33,13200\\r\\n110,0,peugeot 504 (sw),gas,std,four,wagon,rwd,front,114.2,198.9,68.4,58.7,3230,l,four,120,mpfi,3.46,3.19,8.4,97,5000,19,24,12440\\r\\n111,0,peugeot 504,diesel,turbo,four,wagon,rwd,front,114.2,198.9,68.4,58.7,3430,l,four,152,idi,3.7,3.52,21,95,4150,25,25,13860\\r\\n112,0,peugeot 504,gas,std,four,sedan,rwd,front,107.9,186.7,68.4,56.7,3075,l,four,120,mpfi,3.46,2.19,8.4,95,5000,19,24,15580\\r\\n113,0,peugeot 604sl,diesel,turbo,four,sedan,rwd,front,107.9,186.7,68.4,56.7,3252,l,four,152,idi,3.7,3.52,21,95,4150,28,33,16900\\r\\n114,0,peugeot 504,gas,std,four,wagon,rwd,front,114.2,198.9,68.4,56.7,3285,l,four,120,mpfi,3.46,2.19,8.4,95,5000,19,24,16695\\r\\n115,0,peugeot 505s turbo diesel,diesel,turbo,four,wagon,rwd,front,114.2,198.9,68.4,58.7,3485,l,four,152,idi,3.7,3.52,21,95,4150,25,25,17075\\r\\n116,0,peugeot 504,gas,std,four,sedan,rwd,front,107.9,186.7,68.4,56.7,3075,l,four,120,mpfi,3.46,3.19,8.4,97,5000,19,24,16630\\r\\n117,0,peugeot 504,diesel,turbo,four,sedan,rwd,front,107.9,186.7,68.4,56.7,3252,l,four,152,idi,3.7,3.52,21,95,4150,28,33,17950\\r\\n118,0,peugeot 604sl,gas,turbo,four,sedan,rwd,front,108,186.7,68.3,56,3130,l,four,134,mpfi,3.61,3.21,7,142,5600,18,24,18150\\r\\n119,1,plymouth fury iii,gas,std,two,hatchback,fwd,front,93.7,157.3,63.8,50.8,1918,ohc,four,90,2bbl,2.97,3.23,9.4,68,5500,37,41,5572\\r\\n120,1,plymouth cricket,gas,turbo,two,hatchback,fwd,front,93.7,157.3,63.8,50.8,2128,ohc,four,98,spdi,3.03,3.39,7.6,102,5500,24,30,7957\\r\\n121,1,plymouth fury iii,gas,std,four,hatchback,fwd,front,93.7,157.3,63.8,50.6,1967,ohc,four,90,2bbl,2.97,3.23,9.4,68,5500,31,38,6229\\r\\n122,1,plymouth satellite custom (sw),gas,std,four,sedan,fwd,front,93.7,167.3,63.8,50.8,1989,ohc,four,90,2bbl,2.97,3.23,9.4,68,5500,31,38,6692\\r\\n123,1,plymouth fury gran sedan,gas,std,four,sedan,fwd,front,93.7,167.3,63.8,50.8,2191,ohc,four,98,2bbl,2.97,3.23,9.4,68,5500,31,38,7609\\r\\n124,-1,plymouth valiant,gas,std,four,wagon,fwd,front,103.3,174.6,64.6,59.8,2535,ohc,four,122,2bbl,3.35,3.46,8.5,88,5000,24,30,8921\\r\\n125,3,plymouth duster,gas,turbo,two,hatchback,rwd,front,95.9,173.2,66.3,50.2,2818,ohc,four,156,spdi,3.59,3.86,7,145,5000,19,24,12764\\r\\n126,3,porsche macan,gas,std,two,hatchback,rwd,front,94.5,168.9,68.3,50.2,2778,ohc,four,151,mpfi,3.94,3.11,9.5,143,5500,19,27,22018\\r\\n127,3,porcshce panamera,gas,std,two,hardtop,rwd,rear,89.5,168.9,65,51.6,2756,ohcf,six,194,mpfi,3.74,2.9,9.5,207,5900,17,25,32528\\r\\n128,3,porsche cayenne,gas,std,two,hardtop,rwd,rear,89.5,168.9,65,51.6,2756,ohcf,six,194,mpfi,3.74,2.9,9.5,207,5900,17,25,34028\\r\\n129,3,porsche boxter,gas,std,two,convertible,rwd,rear,89.5,168.9,65,51.6,2800,ohcf,six,194,mpfi,3.74,2.9,9.5,207,5900,17,25,37028\\r\\n130,1,porsche cayenne,gas,std,two,hatchback,rwd,front,98.4,175.7,72.3,50.5,3366,dohcv,eight,203,mpfi,3.94,3.11,10,288,5750,17,28,31400.5\\r\\n131,0,renault 12tl,gas,std,four,wagon,fwd,front,96.1,181.5,66.5,55.2,2579,ohc,four,132,mpfi,3.46,3.9,8.7,90,5100,23,31,9295\\r\\n132,2,renault 5 gtl,gas,std,two,hatchback,fwd,front,96.1,176.8,66.6,50.5,2460,ohc,four,132,mpfi,3.46,3.9,8.7,90,5100,23,31,9895\\r\\n133,3,saab 99e,gas,std,two,hatchback,fwd,front,99.1,186.6,66.5,56.1,2658,ohc,four,121,mpfi,3.54,3.07,9.31,110,5250,21,28,11850\\r\\n134,2,saab 99le,gas,std,four,sedan,fwd,front,99.1,186.6,66.5,56.1,2695,ohc,four,121,mpfi,3.54,3.07,9.3,110,5250,21,28,12170\\r\\n135,3,saab 99le,gas,std,two,hatchback,fwd,front,99.1,186.6,66.5,56.1,2707,ohc,four,121,mpfi,2.54,2.07,9.3,110,5250,21,28,15040\\r\\n136,2,saab 99gle,gas,std,four,sedan,fwd,front,99.1,186.6,66.5,56.1,2758,ohc,four,121,mpfi,3.54,3.07,9.3,110,5250,21,28,15510\\r\\n137,3,saab 99gle,gas,turbo,two,hatchback,fwd,front,99.1,186.6,66.5,56.1,2808,dohc,four,121,mpfi,3.54,3.07,9,160,5500,19,26,18150\\r\\n138,2,saab 99e,gas,turbo,four,sedan,fwd,front,99.1,186.6,66.5,56.1,2847,dohc,four,121,mpfi,3.54,3.07,9,160,5500,19,26,18620\\r\\n139,2,subaru,gas,std,two,hatchback,fwd,front,93.7,156.9,63.4,53.7,2050,ohcf,four,97,2bbl,3.62,2.36,9,69,4900,31,36,5118\\r\\n140,2,subaru dl,gas,std,two,hatchback,fwd,front,93.7,157.9,63.6,53.7,2120,ohcf,four,108,2bbl,3.62,2.64,8.7,73,4400,26,31,7053\\r\\n141,2,subaru dl,gas,std,two,hatchback,4wd,front,93.3,157.3,63.8,55.7,2240,ohcf,four,108,2bbl,3.62,2.64,8.7,73,4400,26,31,7603\\r\\n142,0,subaru,gas,std,four,sedan,fwd,front,97.2,172,65.4,52.5,2145,ohcf,four,108,2bbl,3.62,2.64,9.5,82,4800,32,37,7126\\r\\n143,0,subaru brz,gas,std,four,sedan,fwd,front,97.2,172,65.4,52.5,2190,ohcf,four,108,2bbl,3.62,2.64,9.5,82,4400,28,33,7775\\r\\n144,0,subaru baja,gas,std,four,sedan,fwd,front,97.2,172,65.4,52.5,2340,ohcf,four,108,mpfi,3.62,2.64,9,94,5200,26,32,9960\\r\\n145,0,subaru r1,gas,std,four,sedan,4wd,front,97,172,65.4,54.3,2385,ohcf,four,108,2bbl,3.62,2.64,9,82,4800,24,25,9233\\r\\n146,0,subaru r2,gas,turbo,four,sedan,4wd,front,97,172,65.4,54.3,2510,ohcf,four,108,mpfi,3.62,2.64,7.7,111,4800,24,29,11259\\r\\n147,0,subaru trezia,gas,std,four,wagon,fwd,front,97,173.5,65.4,53,2290,ohcf,four,108,2bbl,3.62,2.64,9,82,4800,28,32,7463\\r\\n148,0,subaru tribeca,gas,std,four,wagon,fwd,front,97,173.5,65.4,53,2455,ohcf,four,108,mpfi,3.62,2.64,9,94,5200,25,31,10198\\r\\n149,0,subaru dl,gas,std,four,wagon,4wd,front,96.9,173.6,65.4,54.9,2420,ohcf,four,108,2bbl,3.62,2.64,9,82,4800,23,29,8013\\r\\n150,0,subaru dl,gas,turbo,four,wagon,4wd,front,96.9,173.6,65.4,54.9,2650,ohcf,four,108,mpfi,3.62,2.64,7.7,111,4800,23,23,11694\\r\\n151,1,toyota corona mark ii,gas,std,two,hatchback,fwd,front,95.7,158.7,63.6,54.5,1985,ohc,four,92,2bbl,3.05,3.03,9,62,4800,35,39,5348\\r\\n152,1,toyota corona,gas,std,two,hatchback,fwd,front,95.7,158.7,63.6,54.5,2040,ohc,four,92,2bbl,3.05,3.03,9,62,4800,31,38,6338\\r\\n153,1,toyota corolla 1200,gas,std,four,hatchback,fwd,front,95.7,158.7,63.6,54.5,2015,ohc,four,92,2bbl,3.05,3.03,9,62,4800,31,38,6488\\r\\n154,0,toyota corona hardtop,gas,std,four,wagon,fwd,front,95.7,169.7,63.6,59.1,2280,ohc,four,92,2bbl,3.05,3.03,9,62,4800,31,37,6918\\r\\n155,0,toyota corolla 1600 (sw),gas,std,four,wagon,4wd,front,95.7,169.7,63.6,59.1,2290,ohc,four,92,2bbl,3.05,3.03,9,62,4800,27,32,7898\\r\\n156,0,toyota carina,gas,std,four,wagon,4wd,front,95.7,169.7,63.6,59.1,3110,ohc,four,92,2bbl,3.05,3.03,9,62,4800,27,32,8778\\r\\n157,0,toyota mark ii,gas,std,four,sedan,fwd,front,95.7,166.3,64.4,53,2081,ohc,four,98,2bbl,3.19,3.03,9,70,4800,30,37,6938\\r\\n158,0,toyota corolla 1200,gas,std,four,hatchback,fwd,front,95.7,166.3,64.4,52.8,2109,ohc,four,98,2bbl,3.19,3.03,9,70,4800,30,37,7198\\r\\n159,0,toyota corona,diesel,std,four,sedan,fwd,front,95.7,166.3,64.4,53,2275,ohc,four,110,idi,3.27,3.35,22.5,56,4500,34,36,7898\\r\\n160,0,toyota corolla,diesel,std,four,hatchback,fwd,front,95.7,166.3,64.4,52.8,2275,ohc,four,110,idi,3.27,3.35,22.5,56,4500,38,47,7788\\r\\n161,0,toyota corona,gas,std,four,sedan,fwd,front,95.7,166.3,64.4,53,2094,ohc,four,98,2bbl,3.19,3.03,9,70,4800,38,47,7738\\r\\n162,0,toyota corolla,gas,std,four,hatchback,fwd,front,95.7,166.3,64.4,52.8,2122,ohc,four,98,2bbl,3.19,3.03,9,70,4800,28,34,8358\\r\\n163,0,toyota mark ii,gas,std,four,sedan,fwd,front,95.7,166.3,64.4,52.8,2140,ohc,four,98,2bbl,3.19,3.03,9,70,4800,28,34,9258\\r\\n164,1,toyota corolla liftback,gas,std,two,sedan,rwd,front,94.5,168.7,64,52.6,2169,ohc,four,98,2bbl,3.19,3.03,9,70,4800,29,34,8058\\r\\n165,1,toyota corona,gas,std,two,hatchback,rwd,front,94.5,168.7,64,52.6,2204,ohc,four,98,2bbl,3.19,3.03,9,70,4800,29,34,8238\\r\\n166,1,toyota celica gt liftback,gas,std,two,sedan,rwd,front,94.5,168.7,64,52.6,2265,dohc,four,98,mpfi,3.24,3.08,9.4,112,6600,26,29,9298\\r\\n167,1,toyota corolla tercel,gas,std,two,hatchback,rwd,front,94.5,168.7,64,52.6,2300,dohc,four,98,mpfi,3.24,3.08,9.4,112,6600,26,29,9538\\r\\n168,2,toyota corona liftback,gas,std,two,hardtop,rwd,front,98.4,176.2,65.6,52,2540,ohc,four,146,mpfi,3.62,3.5,9.3,116,4800,24,30,8449\\r\\n169,2,toyota corolla,gas,std,two,hardtop,rwd,front,98.4,176.2,65.6,52,2536,ohc,four,146,mpfi,3.62,3.5,9.3,116,4800,24,30,9639\\r\\n170,2,toyota starlet,gas,std,two,hatchback,rwd,front,98.4,176.2,65.6,52,2551,ohc,four,146,mpfi,3.62,3.5,9.3,116,4800,24,30,9989\\r\\n171,2,toyota tercel,gas,std,two,hardtop,rwd,front,98.4,176.2,65.6,52,2679,ohc,four,146,mpfi,3.62,3.5,9.3,116,4800,24,30,11199\\r\\n172,2,toyota corolla,gas,std,two,hatchback,rwd,front,98.4,176.2,65.6,52,2714,ohc,four,146,mpfi,3.62,3.5,9.3,116,4800,24,30,11549\\r\\n173,2,toyota cressida,gas,std,two,convertible,rwd,front,98.4,176.2,65.6,53,2975,ohc,four,146,mpfi,3.62,3.5,9.3,116,4800,24,30,17669\\r\\n174,-1,toyota corolla,gas,std,four,sedan,fwd,front,102.4,175.6,66.5,54.9,2326,ohc,four,122,mpfi,3.31,3.54,8.7,92,4200,29,34,8948\\r\\n175,-1,toyota celica gt,diesel,turbo,four,sedan,fwd,front,102.4,175.6,66.5,54.9,2480,ohc,four,110,idi,3.27,3.35,22.5,73,4500,30,33,10698\\r\\n176,-1,toyota corona,gas,std,four,hatchback,fwd,front,102.4,175.6,66.5,53.9,2414,ohc,four,122,mpfi,3.31,3.54,8.7,92,4200,27,32,9988\\r\\n177,-1,toyota corolla,gas,std,four,sedan,fwd,front,102.4,175.6,66.5,54.9,2414,ohc,four,122,mpfi,3.31,3.54,8.7,92,4200,27,32,10898\\r\\n178,-1,toyota mark ii,gas,std,four,hatchback,fwd,front,102.4,175.6,66.5,53.9,2458,ohc,four,122,mpfi,3.31,3.54,8.7,92,4200,27,32,11248\\r\\n179,3,toyota corolla liftback,gas,std,two,hatchback,rwd,front,102.9,183.5,67.7,52,2976,dohc,six,171,mpfi,3.27,3.35,9.3,161,5200,20,24,16558\\r\\n180,3,toyota corona,gas,std,two,hatchback,rwd,front,102.9,183.5,67.7,52,3016,dohc,six,171,mpfi,3.27,3.35,9.3,161,5200,19,24,15998\\r\\n181,-1,toyota starlet,gas,std,four,sedan,rwd,front,104.5,187.8,66.5,54.1,3131,dohc,six,171,mpfi,3.27,3.35,9.2,156,5200,20,24,15690\\r\\n182,-1,toyouta tercel,gas,std,four,wagon,rwd,front,104.5,187.8,66.5,54.1,3151,dohc,six,161,mpfi,3.27,3.35,9.2,156,5200,19,24,15750\\r\\n183,2,vokswagen rabbit,diesel,std,two,sedan,fwd,front,97.3,171.7,65.5,55.7,2261,ohc,four,97,idi,3.01,3.4,23,52,4800,37,46,7775\\r\\n184,2,volkswagen 1131 deluxe sedan,gas,std,two,sedan,fwd,front,97.3,171.7,65.5,55.7,2209,ohc,four,109,mpfi,3.19,3.4,9,85,5250,27,34,7975\\r\\n185,2,volkswagen model 111,diesel,std,four,sedan,fwd,front,97.3,171.7,65.5,55.7,2264,ohc,four,97,idi,3.01,3.4,23,52,4800,37,46,7995\\r\\n186,2,volkswagen type 3,gas,std,four,sedan,fwd,front,97.3,171.7,65.5,55.7,2212,ohc,four,109,mpfi,3.19,3.4,9,85,5250,27,34,8195\\r\\n187,2,volkswagen 411 (sw),gas,std,four,sedan,fwd,front,97.3,171.7,65.5,55.7,2275,ohc,four,109,mpfi,3.19,3.4,9,85,5250,27,34,8495\\r\\n188,2,volkswagen super beetle,diesel,turbo,four,sedan,fwd,front,97.3,171.7,65.5,55.7,2319,ohc,four,97,idi,3.01,3.4,23,68,4500,37,42,9495\\r\\n189,2,volkswagen dasher,gas,std,four,sedan,fwd,front,97.3,171.7,65.5,55.7,2300,ohc,four,109,mpfi,3.19,3.4,10,100,5500,26,32,9995\\r\\n190,3,vw dasher,gas,std,two,convertible,fwd,front,94.5,159.3,64.2,55.6,2254,ohc,four,109,mpfi,3.19,3.4,8.5,90,5500,24,29,11595\\r\\n191,3,vw rabbit,gas,std,two,hatchback,fwd,front,94.5,165.7,64,51.4,2221,ohc,four,109,mpfi,3.19,3.4,8.5,90,5500,24,29,9980\\r\\n192,0,volkswagen rabbit,gas,std,four,sedan,fwd,front,100.4,180.2,66.9,55.1,2661,ohc,five,136,mpfi,3.19,3.4,8.5,110,5500,19,24,13295\\r\\n193,0,volkswagen rabbit custom,diesel,turbo,four,sedan,fwd,front,100.4,180.2,66.9,55.1,2579,ohc,four,97,idi,3.01,3.4,23,68,4500,33,38,13845\\r\\n194,0,volkswagen dasher,gas,std,four,wagon,fwd,front,100.4,183.1,66.9,55.1,2563,ohc,four,109,mpfi,3.19,3.4,9,88,5500,25,31,12290\\r\\n195,-2,volvo 145e (sw),gas,std,four,sedan,rwd,front,104.3,188.8,67.2,56.2,2912,ohc,four,141,mpfi,3.78,3.15,9.5,114,5400,23,28,12940\\r\\n196,-1,volvo 144ea,gas,std,four,wagon,rwd,front,104.3,188.8,67.2,57.5,3034,ohc,four,141,mpfi,3.78,3.15,9.5,114,5400,23,28,13415\\r\\n197,-2,volvo 244dl,gas,std,four,sedan,rwd,front,104.3,188.8,67.2,56.2,2935,ohc,four,141,mpfi,3.78,3.15,9.5,114,5400,24,28,15985\\r\\n198,-1,volvo 245,gas,std,four,wagon,rwd,front,104.3,188.8,67.2,57.5,3042,ohc,four,141,mpfi,3.78,3.15,9.5,114,5400,24,28,16515\\r\\n199,-2,volvo 264gl,gas,turbo,four,sedan,rwd,front,104.3,188.8,67.2,56.2,3045,ohc,four,130,mpfi,3.62,3.15,7.5,162,5100,17,22,18420\\r\\n200,-1,volvo diesel,gas,turbo,four,wagon,rwd,front,104.3,188.8,67.2,57.5,3157,ohc,four,130,mpfi,3.62,3.15,7.5,162,5100,17,22,18950\\r\\n201,-1,volvo 145e (sw),gas,std,four,sedan,rwd,front,109.1,188.8,68.9,55.5,2952,ohc,four,141,mpfi,3.78,3.15,9.5,114,5400,23,28,16845\\r\\n202,-1,volvo 144ea,gas,turbo,four,sedan,rwd,front,109.1,188.8,68.8,55.5,3049,ohc,four,141,mpfi,3.78,3.15,8.7,160,5300,19,25,19045\\r\\n203,-1,volvo 244dl,gas,std,four,sedan,rwd,front,109.1,188.8,68.9,55.5,3012,ohcv,six,173,mpfi,3.58,2.87,8.8,134,5500,18,23,21485\\r\\n204,-1,volvo 246,diesel,turbo,four,sedan,rwd,front,109.1,188.8,68.9,55.5,3217,ohc,six,145,idi,3.01,3.4,23,106,4800,26,27,22470\\r\\n205,-1,volvo 264gl,gas,turbo,four,sedan,rwd,front,109.1,188.8,68.9,55.5,3062,ohc,four,141,mpfi,3.78,3.15,9.5,114,5400,19,25,22625\\r\\n'}"
            ]
          },
          "metadata": {
            "tags": []
          },
          "execution_count": 4
        }
      ]
    },
    {
      "cell_type": "code",
      "metadata": {
        "id": "M8G206bcbLKu"
      },
      "source": [
        "import io"
      ],
      "execution_count": 5,
      "outputs": []
    },
    {
      "cell_type": "code",
      "metadata": {
        "id": "caLe1qhDbMIQ",
        "outputId": "d851dfb4-3a8a-4755-eb08-37a5c97a41a7",
        "colab": {
          "base_uri": "https://localhost:8080/",
          "height": 275
        }
      },
      "source": [
        "df = pd.read_csv(io.StringIO(uploaded[\"Car Prices.csv\"].decode(\"utf-8\")))\n",
        "df.head()"
      ],
      "execution_count": 7,
      "outputs": [
        {
          "output_type": "execute_result",
          "data": {
            "text/html": [
              "<div>\n",
              "<style scoped>\n",
              "    .dataframe tbody tr th:only-of-type {\n",
              "        vertical-align: middle;\n",
              "    }\n",
              "\n",
              "    .dataframe tbody tr th {\n",
              "        vertical-align: top;\n",
              "    }\n",
              "\n",
              "    .dataframe thead th {\n",
              "        text-align: right;\n",
              "    }\n",
              "</style>\n",
              "<table border=\"1\" class=\"dataframe\">\n",
              "  <thead>\n",
              "    <tr style=\"text-align: right;\">\n",
              "      <th></th>\n",
              "      <th>car_ID</th>\n",
              "      <th>symboling</th>\n",
              "      <th>CarName</th>\n",
              "      <th>fueltype</th>\n",
              "      <th>aspiration</th>\n",
              "      <th>doornumber</th>\n",
              "      <th>carbody</th>\n",
              "      <th>drivewheel</th>\n",
              "      <th>enginelocation</th>\n",
              "      <th>wheelbase</th>\n",
              "      <th>carlength</th>\n",
              "      <th>carwidth</th>\n",
              "      <th>carheight</th>\n",
              "      <th>curbweight</th>\n",
              "      <th>enginetype</th>\n",
              "      <th>cylindernumber</th>\n",
              "      <th>enginesize</th>\n",
              "      <th>fuelsystem</th>\n",
              "      <th>boreratio</th>\n",
              "      <th>stroke</th>\n",
              "      <th>compressionratio</th>\n",
              "      <th>horsepower</th>\n",
              "      <th>peakrpm</th>\n",
              "      <th>citympg</th>\n",
              "      <th>highwaympg</th>\n",
              "      <th>price</th>\n",
              "    </tr>\n",
              "  </thead>\n",
              "  <tbody>\n",
              "    <tr>\n",
              "      <th>0</th>\n",
              "      <td>1</td>\n",
              "      <td>3</td>\n",
              "      <td>alfa-romero giulia</td>\n",
              "      <td>gas</td>\n",
              "      <td>std</td>\n",
              "      <td>two</td>\n",
              "      <td>convertible</td>\n",
              "      <td>rwd</td>\n",
              "      <td>front</td>\n",
              "      <td>88.6</td>\n",
              "      <td>168.8</td>\n",
              "      <td>64.1</td>\n",
              "      <td>48.8</td>\n",
              "      <td>2548</td>\n",
              "      <td>dohc</td>\n",
              "      <td>four</td>\n",
              "      <td>130</td>\n",
              "      <td>mpfi</td>\n",
              "      <td>3.47</td>\n",
              "      <td>2.68</td>\n",
              "      <td>9.0</td>\n",
              "      <td>111</td>\n",
              "      <td>5000</td>\n",
              "      <td>21</td>\n",
              "      <td>27</td>\n",
              "      <td>13495.0</td>\n",
              "    </tr>\n",
              "    <tr>\n",
              "      <th>1</th>\n",
              "      <td>2</td>\n",
              "      <td>3</td>\n",
              "      <td>alfa-romero stelvio</td>\n",
              "      <td>gas</td>\n",
              "      <td>std</td>\n",
              "      <td>two</td>\n",
              "      <td>convertible</td>\n",
              "      <td>rwd</td>\n",
              "      <td>front</td>\n",
              "      <td>88.6</td>\n",
              "      <td>168.8</td>\n",
              "      <td>64.1</td>\n",
              "      <td>48.8</td>\n",
              "      <td>2548</td>\n",
              "      <td>dohc</td>\n",
              "      <td>four</td>\n",
              "      <td>130</td>\n",
              "      <td>mpfi</td>\n",
              "      <td>3.47</td>\n",
              "      <td>2.68</td>\n",
              "      <td>9.0</td>\n",
              "      <td>111</td>\n",
              "      <td>5000</td>\n",
              "      <td>21</td>\n",
              "      <td>27</td>\n",
              "      <td>16500.0</td>\n",
              "    </tr>\n",
              "    <tr>\n",
              "      <th>2</th>\n",
              "      <td>3</td>\n",
              "      <td>1</td>\n",
              "      <td>alfa-romero Quadrifoglio</td>\n",
              "      <td>gas</td>\n",
              "      <td>std</td>\n",
              "      <td>two</td>\n",
              "      <td>hatchback</td>\n",
              "      <td>rwd</td>\n",
              "      <td>front</td>\n",
              "      <td>94.5</td>\n",
              "      <td>171.2</td>\n",
              "      <td>65.5</td>\n",
              "      <td>52.4</td>\n",
              "      <td>2823</td>\n",
              "      <td>ohcv</td>\n",
              "      <td>six</td>\n",
              "      <td>152</td>\n",
              "      <td>mpfi</td>\n",
              "      <td>2.68</td>\n",
              "      <td>3.47</td>\n",
              "      <td>9.0</td>\n",
              "      <td>154</td>\n",
              "      <td>5000</td>\n",
              "      <td>19</td>\n",
              "      <td>26</td>\n",
              "      <td>16500.0</td>\n",
              "    </tr>\n",
              "    <tr>\n",
              "      <th>3</th>\n",
              "      <td>4</td>\n",
              "      <td>2</td>\n",
              "      <td>audi 100 ls</td>\n",
              "      <td>gas</td>\n",
              "      <td>std</td>\n",
              "      <td>four</td>\n",
              "      <td>sedan</td>\n",
              "      <td>fwd</td>\n",
              "      <td>front</td>\n",
              "      <td>99.8</td>\n",
              "      <td>176.6</td>\n",
              "      <td>66.2</td>\n",
              "      <td>54.3</td>\n",
              "      <td>2337</td>\n",
              "      <td>ohc</td>\n",
              "      <td>four</td>\n",
              "      <td>109</td>\n",
              "      <td>mpfi</td>\n",
              "      <td>3.19</td>\n",
              "      <td>3.40</td>\n",
              "      <td>10.0</td>\n",
              "      <td>102</td>\n",
              "      <td>5500</td>\n",
              "      <td>24</td>\n",
              "      <td>30</td>\n",
              "      <td>13950.0</td>\n",
              "    </tr>\n",
              "    <tr>\n",
              "      <th>4</th>\n",
              "      <td>5</td>\n",
              "      <td>2</td>\n",
              "      <td>audi 100ls</td>\n",
              "      <td>gas</td>\n",
              "      <td>std</td>\n",
              "      <td>four</td>\n",
              "      <td>sedan</td>\n",
              "      <td>4wd</td>\n",
              "      <td>front</td>\n",
              "      <td>99.4</td>\n",
              "      <td>176.6</td>\n",
              "      <td>66.4</td>\n",
              "      <td>54.3</td>\n",
              "      <td>2824</td>\n",
              "      <td>ohc</td>\n",
              "      <td>five</td>\n",
              "      <td>136</td>\n",
              "      <td>mpfi</td>\n",
              "      <td>3.19</td>\n",
              "      <td>3.40</td>\n",
              "      <td>8.0</td>\n",
              "      <td>115</td>\n",
              "      <td>5500</td>\n",
              "      <td>18</td>\n",
              "      <td>22</td>\n",
              "      <td>17450.0</td>\n",
              "    </tr>\n",
              "  </tbody>\n",
              "</table>\n",
              "</div>"
            ],
            "text/plain": [
              "   car_ID  symboling                   CarName  ... citympg highwaympg    price\n",
              "0       1          3        alfa-romero giulia  ...      21         27  13495.0\n",
              "1       2          3       alfa-romero stelvio  ...      21         27  16500.0\n",
              "2       3          1  alfa-romero Quadrifoglio  ...      19         26  16500.0\n",
              "3       4          2               audi 100 ls  ...      24         30  13950.0\n",
              "4       5          2                audi 100ls  ...      18         22  17450.0\n",
              "\n",
              "[5 rows x 26 columns]"
            ]
          },
          "metadata": {
            "tags": []
          },
          "execution_count": 7
        }
      ]
    },
    {
      "cell_type": "code",
      "metadata": {
        "id": "1PbgK0cDlpUK",
        "outputId": "db1ad26d-0350-4185-f8da-3b3c56b97247",
        "colab": {
          "base_uri": "https://localhost:8080/",
          "height": 136
        }
      },
      "source": [
        "df.columns"
      ],
      "execution_count": 8,
      "outputs": [
        {
          "output_type": "execute_result",
          "data": {
            "text/plain": [
              "Index(['car_ID', 'symboling', 'CarName', 'fueltype', 'aspiration',\n",
              "       'doornumber', 'carbody', 'drivewheel', 'enginelocation', 'wheelbase',\n",
              "       'carlength', 'carwidth', 'carheight', 'curbweight', 'enginetype',\n",
              "       'cylindernumber', 'enginesize', 'fuelsystem', 'boreratio', 'stroke',\n",
              "       'compressionratio', 'horsepower', 'peakrpm', 'citympg', 'highwaympg',\n",
              "       'price'],\n",
              "      dtype='object')"
            ]
          },
          "metadata": {
            "tags": []
          },
          "execution_count": 8
        }
      ]
    },
    {
      "cell_type": "code",
      "metadata": {
        "id": "GECTxHRXl91-",
        "outputId": "06bfeec2-7e57-4253-88da-7273cf7f6abd",
        "colab": {
          "base_uri": "https://localhost:8080/",
          "height": 374
        }
      },
      "source": [
        "df.drop(['car_ID', 'symboling','aspiration', 'carbody', 'drivewheel', 'enginelocation', 'wheelbase',\n",
        "       'carlength', 'carwidth', 'carheight', 'curbweight',\n",
        "       'cylindernumber', 'fuelsystem', 'boreratio', 'stroke',\n",
        "       'compressionratio','citympg', 'highwaympg'], axis = 1, inplace = True)"
      ],
      "execution_count": 10,
      "outputs": [
        {
          "output_type": "error",
          "ename": "KeyError",
          "evalue": "ignored",
          "traceback": [
            "\u001b[0;31m---------------------------------------------------------------------------\u001b[0m",
            "\u001b[0;31mKeyError\u001b[0m                                  Traceback (most recent call last)",
            "\u001b[0;32m<ipython-input-10-8b30b5c87b7a>\u001b[0m in \u001b[0;36m<module>\u001b[0;34m()\u001b[0m\n\u001b[1;32m      2\u001b[0m        \u001b[0;34m'carlength'\u001b[0m\u001b[0;34m,\u001b[0m \u001b[0;34m'carwidth'\u001b[0m\u001b[0;34m,\u001b[0m \u001b[0;34m'carheight'\u001b[0m\u001b[0;34m,\u001b[0m \u001b[0;34m'curbweight'\u001b[0m\u001b[0;34m,\u001b[0m\u001b[0;34m\u001b[0m\u001b[0;34m\u001b[0m\u001b[0m\n\u001b[1;32m      3\u001b[0m        \u001b[0;34m'cylindernumber'\u001b[0m\u001b[0;34m,\u001b[0m \u001b[0;34m'fuelsystem'\u001b[0m\u001b[0;34m,\u001b[0m \u001b[0;34m'boreratio'\u001b[0m\u001b[0;34m,\u001b[0m \u001b[0;34m'stroke'\u001b[0m\u001b[0;34m,\u001b[0m\u001b[0;34m\u001b[0m\u001b[0;34m\u001b[0m\u001b[0m\n\u001b[0;32m----> 4\u001b[0;31m        'compressionratio','citympg', 'highwaympg'], axis = 1, inplace = True)\n\u001b[0m\u001b[1;32m      5\u001b[0m \u001b[0mdf\u001b[0m\u001b[0;34m\u001b[0m\u001b[0;34m\u001b[0m\u001b[0m\n",
            "\u001b[0;32m/usr/local/lib/python3.6/dist-packages/pandas/core/frame.py\u001b[0m in \u001b[0;36mdrop\u001b[0;34m(self, labels, axis, index, columns, level, inplace, errors)\u001b[0m\n\u001b[1;32m   4167\u001b[0m             \u001b[0mlevel\u001b[0m\u001b[0;34m=\u001b[0m\u001b[0mlevel\u001b[0m\u001b[0;34m,\u001b[0m\u001b[0;34m\u001b[0m\u001b[0;34m\u001b[0m\u001b[0m\n\u001b[1;32m   4168\u001b[0m             \u001b[0minplace\u001b[0m\u001b[0;34m=\u001b[0m\u001b[0minplace\u001b[0m\u001b[0;34m,\u001b[0m\u001b[0;34m\u001b[0m\u001b[0;34m\u001b[0m\u001b[0m\n\u001b[0;32m-> 4169\u001b[0;31m             \u001b[0merrors\u001b[0m\u001b[0;34m=\u001b[0m\u001b[0merrors\u001b[0m\u001b[0;34m,\u001b[0m\u001b[0;34m\u001b[0m\u001b[0;34m\u001b[0m\u001b[0m\n\u001b[0m\u001b[1;32m   4170\u001b[0m         )\n\u001b[1;32m   4171\u001b[0m \u001b[0;34m\u001b[0m\u001b[0m\n",
            "\u001b[0;32m/usr/local/lib/python3.6/dist-packages/pandas/core/generic.py\u001b[0m in \u001b[0;36mdrop\u001b[0;34m(self, labels, axis, index, columns, level, inplace, errors)\u001b[0m\n\u001b[1;32m   3882\u001b[0m         \u001b[0;32mfor\u001b[0m \u001b[0maxis\u001b[0m\u001b[0;34m,\u001b[0m \u001b[0mlabels\u001b[0m \u001b[0;32min\u001b[0m \u001b[0maxes\u001b[0m\u001b[0;34m.\u001b[0m\u001b[0mitems\u001b[0m\u001b[0;34m(\u001b[0m\u001b[0;34m)\u001b[0m\u001b[0;34m:\u001b[0m\u001b[0;34m\u001b[0m\u001b[0;34m\u001b[0m\u001b[0m\n\u001b[1;32m   3883\u001b[0m             \u001b[0;32mif\u001b[0m \u001b[0mlabels\u001b[0m \u001b[0;32mis\u001b[0m \u001b[0;32mnot\u001b[0m \u001b[0;32mNone\u001b[0m\u001b[0;34m:\u001b[0m\u001b[0;34m\u001b[0m\u001b[0;34m\u001b[0m\u001b[0m\n\u001b[0;32m-> 3884\u001b[0;31m                 \u001b[0mobj\u001b[0m \u001b[0;34m=\u001b[0m \u001b[0mobj\u001b[0m\u001b[0;34m.\u001b[0m\u001b[0m_drop_axis\u001b[0m\u001b[0;34m(\u001b[0m\u001b[0mlabels\u001b[0m\u001b[0;34m,\u001b[0m \u001b[0maxis\u001b[0m\u001b[0;34m,\u001b[0m \u001b[0mlevel\u001b[0m\u001b[0;34m=\u001b[0m\u001b[0mlevel\u001b[0m\u001b[0;34m,\u001b[0m \u001b[0merrors\u001b[0m\u001b[0;34m=\u001b[0m\u001b[0merrors\u001b[0m\u001b[0;34m)\u001b[0m\u001b[0;34m\u001b[0m\u001b[0;34m\u001b[0m\u001b[0m\n\u001b[0m\u001b[1;32m   3885\u001b[0m \u001b[0;34m\u001b[0m\u001b[0m\n\u001b[1;32m   3886\u001b[0m         \u001b[0;32mif\u001b[0m \u001b[0minplace\u001b[0m\u001b[0;34m:\u001b[0m\u001b[0;34m\u001b[0m\u001b[0;34m\u001b[0m\u001b[0m\n",
            "\u001b[0;32m/usr/local/lib/python3.6/dist-packages/pandas/core/generic.py\u001b[0m in \u001b[0;36m_drop_axis\u001b[0;34m(self, labels, axis, level, errors)\u001b[0m\n\u001b[1;32m   3916\u001b[0m                 \u001b[0mnew_axis\u001b[0m \u001b[0;34m=\u001b[0m \u001b[0maxis\u001b[0m\u001b[0;34m.\u001b[0m\u001b[0mdrop\u001b[0m\u001b[0;34m(\u001b[0m\u001b[0mlabels\u001b[0m\u001b[0;34m,\u001b[0m \u001b[0mlevel\u001b[0m\u001b[0;34m=\u001b[0m\u001b[0mlevel\u001b[0m\u001b[0;34m,\u001b[0m \u001b[0merrors\u001b[0m\u001b[0;34m=\u001b[0m\u001b[0merrors\u001b[0m\u001b[0;34m)\u001b[0m\u001b[0;34m\u001b[0m\u001b[0;34m\u001b[0m\u001b[0m\n\u001b[1;32m   3917\u001b[0m             \u001b[0;32melse\u001b[0m\u001b[0;34m:\u001b[0m\u001b[0;34m\u001b[0m\u001b[0;34m\u001b[0m\u001b[0m\n\u001b[0;32m-> 3918\u001b[0;31m                 \u001b[0mnew_axis\u001b[0m \u001b[0;34m=\u001b[0m \u001b[0maxis\u001b[0m\u001b[0;34m.\u001b[0m\u001b[0mdrop\u001b[0m\u001b[0;34m(\u001b[0m\u001b[0mlabels\u001b[0m\u001b[0;34m,\u001b[0m \u001b[0merrors\u001b[0m\u001b[0;34m=\u001b[0m\u001b[0merrors\u001b[0m\u001b[0;34m)\u001b[0m\u001b[0;34m\u001b[0m\u001b[0;34m\u001b[0m\u001b[0m\n\u001b[0m\u001b[1;32m   3919\u001b[0m             \u001b[0mresult\u001b[0m \u001b[0;34m=\u001b[0m \u001b[0mself\u001b[0m\u001b[0;34m.\u001b[0m\u001b[0mreindex\u001b[0m\u001b[0;34m(\u001b[0m\u001b[0;34m**\u001b[0m\u001b[0;34m{\u001b[0m\u001b[0maxis_name\u001b[0m\u001b[0;34m:\u001b[0m \u001b[0mnew_axis\u001b[0m\u001b[0;34m}\u001b[0m\u001b[0;34m)\u001b[0m\u001b[0;34m\u001b[0m\u001b[0;34m\u001b[0m\u001b[0m\n\u001b[1;32m   3920\u001b[0m \u001b[0;34m\u001b[0m\u001b[0m\n",
            "\u001b[0;32m/usr/local/lib/python3.6/dist-packages/pandas/core/indexes/base.py\u001b[0m in \u001b[0;36mdrop\u001b[0;34m(self, labels, errors)\u001b[0m\n\u001b[1;32m   5276\u001b[0m         \u001b[0;32mif\u001b[0m \u001b[0mmask\u001b[0m\u001b[0;34m.\u001b[0m\u001b[0many\u001b[0m\u001b[0;34m(\u001b[0m\u001b[0;34m)\u001b[0m\u001b[0;34m:\u001b[0m\u001b[0;34m\u001b[0m\u001b[0;34m\u001b[0m\u001b[0m\n\u001b[1;32m   5277\u001b[0m             \u001b[0;32mif\u001b[0m \u001b[0merrors\u001b[0m \u001b[0;34m!=\u001b[0m \u001b[0;34m\"ignore\"\u001b[0m\u001b[0;34m:\u001b[0m\u001b[0;34m\u001b[0m\u001b[0;34m\u001b[0m\u001b[0m\n\u001b[0;32m-> 5278\u001b[0;31m                 \u001b[0;32mraise\u001b[0m \u001b[0mKeyError\u001b[0m\u001b[0;34m(\u001b[0m\u001b[0;34mf\"{labels[mask]} not found in axis\"\u001b[0m\u001b[0;34m)\u001b[0m\u001b[0;34m\u001b[0m\u001b[0;34m\u001b[0m\u001b[0m\n\u001b[0m\u001b[1;32m   5279\u001b[0m             \u001b[0mindexer\u001b[0m \u001b[0;34m=\u001b[0m \u001b[0mindexer\u001b[0m\u001b[0;34m[\u001b[0m\u001b[0;34m~\u001b[0m\u001b[0mmask\u001b[0m\u001b[0;34m]\u001b[0m\u001b[0;34m\u001b[0m\u001b[0;34m\u001b[0m\u001b[0m\n\u001b[1;32m   5280\u001b[0m         \u001b[0;32mreturn\u001b[0m \u001b[0mself\u001b[0m\u001b[0;34m.\u001b[0m\u001b[0mdelete\u001b[0m\u001b[0;34m(\u001b[0m\u001b[0mindexer\u001b[0m\u001b[0;34m)\u001b[0m\u001b[0;34m\u001b[0m\u001b[0;34m\u001b[0m\u001b[0m\n",
            "\u001b[0;31mKeyError\u001b[0m: \"['car_ID' 'symboling' 'aspiration' 'carbody' 'drivewheel' 'enginelocation'\\n 'wheelbase' 'carlength' 'carwidth' 'carheight' 'curbweight'\\n 'cylindernumber' 'fuelsystem' 'boreratio' 'stroke' 'compressionratio'\\n 'citympg' 'highwaympg'] not found in axis\""
          ]
        }
      ]
    },
    {
      "cell_type": "code",
      "metadata": {
        "id": "Jk-6Afyhjnly",
        "outputId": "88d7d9f5-c709-4fae-cf3a-6bf1a4d861de",
        "colab": {
          "base_uri": "https://localhost:8080/",
          "height": 419
        }
      },
      "source": [
        "df.drop([\"fueltype\", \"doornumber\", \"enginetype\"], axis = 1, inplace = True)\n",
        "df"
      ],
      "execution_count": 12,
      "outputs": [
        {
          "output_type": "execute_result",
          "data": {
            "text/html": [
              "<div>\n",
              "<style scoped>\n",
              "    .dataframe tbody tr th:only-of-type {\n",
              "        vertical-align: middle;\n",
              "    }\n",
              "\n",
              "    .dataframe tbody tr th {\n",
              "        vertical-align: top;\n",
              "    }\n",
              "\n",
              "    .dataframe thead th {\n",
              "        text-align: right;\n",
              "    }\n",
              "</style>\n",
              "<table border=\"1\" class=\"dataframe\">\n",
              "  <thead>\n",
              "    <tr style=\"text-align: right;\">\n",
              "      <th></th>\n",
              "      <th>CarName</th>\n",
              "      <th>enginesize</th>\n",
              "      <th>horsepower</th>\n",
              "      <th>peakrpm</th>\n",
              "      <th>price</th>\n",
              "    </tr>\n",
              "  </thead>\n",
              "  <tbody>\n",
              "    <tr>\n",
              "      <th>0</th>\n",
              "      <td>alfa-romero giulia</td>\n",
              "      <td>130</td>\n",
              "      <td>111</td>\n",
              "      <td>5000</td>\n",
              "      <td>13495.0</td>\n",
              "    </tr>\n",
              "    <tr>\n",
              "      <th>1</th>\n",
              "      <td>alfa-romero stelvio</td>\n",
              "      <td>130</td>\n",
              "      <td>111</td>\n",
              "      <td>5000</td>\n",
              "      <td>16500.0</td>\n",
              "    </tr>\n",
              "    <tr>\n",
              "      <th>2</th>\n",
              "      <td>alfa-romero Quadrifoglio</td>\n",
              "      <td>152</td>\n",
              "      <td>154</td>\n",
              "      <td>5000</td>\n",
              "      <td>16500.0</td>\n",
              "    </tr>\n",
              "    <tr>\n",
              "      <th>3</th>\n",
              "      <td>audi 100 ls</td>\n",
              "      <td>109</td>\n",
              "      <td>102</td>\n",
              "      <td>5500</td>\n",
              "      <td>13950.0</td>\n",
              "    </tr>\n",
              "    <tr>\n",
              "      <th>4</th>\n",
              "      <td>audi 100ls</td>\n",
              "      <td>136</td>\n",
              "      <td>115</td>\n",
              "      <td>5500</td>\n",
              "      <td>17450.0</td>\n",
              "    </tr>\n",
              "    <tr>\n",
              "      <th>...</th>\n",
              "      <td>...</td>\n",
              "      <td>...</td>\n",
              "      <td>...</td>\n",
              "      <td>...</td>\n",
              "      <td>...</td>\n",
              "    </tr>\n",
              "    <tr>\n",
              "      <th>200</th>\n",
              "      <td>volvo 145e (sw)</td>\n",
              "      <td>141</td>\n",
              "      <td>114</td>\n",
              "      <td>5400</td>\n",
              "      <td>16845.0</td>\n",
              "    </tr>\n",
              "    <tr>\n",
              "      <th>201</th>\n",
              "      <td>volvo 144ea</td>\n",
              "      <td>141</td>\n",
              "      <td>160</td>\n",
              "      <td>5300</td>\n",
              "      <td>19045.0</td>\n",
              "    </tr>\n",
              "    <tr>\n",
              "      <th>202</th>\n",
              "      <td>volvo 244dl</td>\n",
              "      <td>173</td>\n",
              "      <td>134</td>\n",
              "      <td>5500</td>\n",
              "      <td>21485.0</td>\n",
              "    </tr>\n",
              "    <tr>\n",
              "      <th>203</th>\n",
              "      <td>volvo 246</td>\n",
              "      <td>145</td>\n",
              "      <td>106</td>\n",
              "      <td>4800</td>\n",
              "      <td>22470.0</td>\n",
              "    </tr>\n",
              "    <tr>\n",
              "      <th>204</th>\n",
              "      <td>volvo 264gl</td>\n",
              "      <td>141</td>\n",
              "      <td>114</td>\n",
              "      <td>5400</td>\n",
              "      <td>22625.0</td>\n",
              "    </tr>\n",
              "  </tbody>\n",
              "</table>\n",
              "<p>205 rows × 5 columns</p>\n",
              "</div>"
            ],
            "text/plain": [
              "                      CarName  enginesize  horsepower  peakrpm    price\n",
              "0          alfa-romero giulia         130         111     5000  13495.0\n",
              "1         alfa-romero stelvio         130         111     5000  16500.0\n",
              "2    alfa-romero Quadrifoglio         152         154     5000  16500.0\n",
              "3                 audi 100 ls         109         102     5500  13950.0\n",
              "4                  audi 100ls         136         115     5500  17450.0\n",
              "..                        ...         ...         ...      ...      ...\n",
              "200           volvo 145e (sw)         141         114     5400  16845.0\n",
              "201               volvo 144ea         141         160     5300  19045.0\n",
              "202               volvo 244dl         173         134     5500  21485.0\n",
              "203                 volvo 246         145         106     4800  22470.0\n",
              "204               volvo 264gl         141         114     5400  22625.0\n",
              "\n",
              "[205 rows x 5 columns]"
            ]
          },
          "metadata": {
            "tags": []
          },
          "execution_count": 12
        }
      ]
    },
    {
      "cell_type": "code",
      "metadata": {
        "id": "l872aQ5rm26M",
        "outputId": "4f67175d-45c3-4075-fe9f-edbd87488edd",
        "colab": {
          "base_uri": "https://localhost:8080/",
          "height": 221
        }
      },
      "source": [
        "df.info()"
      ],
      "execution_count": 13,
      "outputs": [
        {
          "output_type": "stream",
          "text": [
            "<class 'pandas.core.frame.DataFrame'>\n",
            "RangeIndex: 205 entries, 0 to 204\n",
            "Data columns (total 5 columns):\n",
            " #   Column      Non-Null Count  Dtype  \n",
            "---  ------      --------------  -----  \n",
            " 0   CarName     205 non-null    object \n",
            " 1   enginesize  205 non-null    int64  \n",
            " 2   horsepower  205 non-null    int64  \n",
            " 3   peakrpm     205 non-null    int64  \n",
            " 4   price       205 non-null    float64\n",
            "dtypes: float64(1), int64(3), object(1)\n",
            "memory usage: 8.1+ KB\n"
          ],
          "name": "stdout"
        }
      ]
    },
    {
      "cell_type": "code",
      "metadata": {
        "id": "3O3M7Ca9nUyu",
        "outputId": "04ec8a52-4cb0-42f6-c412-2d8d746167f2",
        "colab": {
          "base_uri": "https://localhost:8080/",
          "height": 297
        }
      },
      "source": [
        "df.describe()"
      ],
      "execution_count": 14,
      "outputs": [
        {
          "output_type": "execute_result",
          "data": {
            "text/html": [
              "<div>\n",
              "<style scoped>\n",
              "    .dataframe tbody tr th:only-of-type {\n",
              "        vertical-align: middle;\n",
              "    }\n",
              "\n",
              "    .dataframe tbody tr th {\n",
              "        vertical-align: top;\n",
              "    }\n",
              "\n",
              "    .dataframe thead th {\n",
              "        text-align: right;\n",
              "    }\n",
              "</style>\n",
              "<table border=\"1\" class=\"dataframe\">\n",
              "  <thead>\n",
              "    <tr style=\"text-align: right;\">\n",
              "      <th></th>\n",
              "      <th>enginesize</th>\n",
              "      <th>horsepower</th>\n",
              "      <th>peakrpm</th>\n",
              "      <th>price</th>\n",
              "    </tr>\n",
              "  </thead>\n",
              "  <tbody>\n",
              "    <tr>\n",
              "      <th>count</th>\n",
              "      <td>205.000000</td>\n",
              "      <td>205.000000</td>\n",
              "      <td>205.000000</td>\n",
              "      <td>205.000000</td>\n",
              "    </tr>\n",
              "    <tr>\n",
              "      <th>mean</th>\n",
              "      <td>126.907317</td>\n",
              "      <td>104.117073</td>\n",
              "      <td>5125.121951</td>\n",
              "      <td>13276.710571</td>\n",
              "    </tr>\n",
              "    <tr>\n",
              "      <th>std</th>\n",
              "      <td>41.642693</td>\n",
              "      <td>39.544167</td>\n",
              "      <td>476.985643</td>\n",
              "      <td>7988.852332</td>\n",
              "    </tr>\n",
              "    <tr>\n",
              "      <th>min</th>\n",
              "      <td>61.000000</td>\n",
              "      <td>48.000000</td>\n",
              "      <td>4150.000000</td>\n",
              "      <td>5118.000000</td>\n",
              "    </tr>\n",
              "    <tr>\n",
              "      <th>25%</th>\n",
              "      <td>97.000000</td>\n",
              "      <td>70.000000</td>\n",
              "      <td>4800.000000</td>\n",
              "      <td>7788.000000</td>\n",
              "    </tr>\n",
              "    <tr>\n",
              "      <th>50%</th>\n",
              "      <td>120.000000</td>\n",
              "      <td>95.000000</td>\n",
              "      <td>5200.000000</td>\n",
              "      <td>10295.000000</td>\n",
              "    </tr>\n",
              "    <tr>\n",
              "      <th>75%</th>\n",
              "      <td>141.000000</td>\n",
              "      <td>116.000000</td>\n",
              "      <td>5500.000000</td>\n",
              "      <td>16503.000000</td>\n",
              "    </tr>\n",
              "    <tr>\n",
              "      <th>max</th>\n",
              "      <td>326.000000</td>\n",
              "      <td>288.000000</td>\n",
              "      <td>6600.000000</td>\n",
              "      <td>45400.000000</td>\n",
              "    </tr>\n",
              "  </tbody>\n",
              "</table>\n",
              "</div>"
            ],
            "text/plain": [
              "       enginesize  horsepower      peakrpm         price\n",
              "count  205.000000  205.000000   205.000000    205.000000\n",
              "mean   126.907317  104.117073  5125.121951  13276.710571\n",
              "std     41.642693   39.544167   476.985643   7988.852332\n",
              "min     61.000000   48.000000  4150.000000   5118.000000\n",
              "25%     97.000000   70.000000  4800.000000   7788.000000\n",
              "50%    120.000000   95.000000  5200.000000  10295.000000\n",
              "75%    141.000000  116.000000  5500.000000  16503.000000\n",
              "max    326.000000  288.000000  6600.000000  45400.000000"
            ]
          },
          "metadata": {
            "tags": []
          },
          "execution_count": 14
        }
      ]
    },
    {
      "cell_type": "code",
      "metadata": {
        "id": "9AcpgWddnWqN",
        "outputId": "0b53a68d-b29f-4d08-d33b-38f04bbd6bbb",
        "colab": {
          "base_uri": "https://localhost:8080/",
          "height": 287
        }
      },
      "source": [
        "corr = df.corr()\n",
        "sns.heatmap(corr, xticklabels=corr.columns, yticklabels=corr.columns, annot=True)"
      ],
      "execution_count": 17,
      "outputs": [
        {
          "output_type": "execute_result",
          "data": {
            "text/plain": [
              "<matplotlib.axes._subplots.AxesSubplot at 0x7fa63b2fdb70>"
            ]
          },
          "metadata": {
            "tags": []
          },
          "execution_count": 17
        },
        {
          "output_type": "display_data",
          "data": {
            "image/png": "[encoded data removed]",
            "text/plain": [
              "<Figure size 432x288 with 2 Axes>"
            ]
          },
          "metadata": {
            "tags": [],
            "needs_background": "light"
          }
        }
      ]
    },
    {
      "cell_type": "code",
      "metadata": {
        "id": "lWy8hYXNowI5",
        "outputId": "40069ba0-f9f6-4847-9db4-2ef8706e8d97",
        "colab": {
          "base_uri": "https://localhost:8080/",
          "height": 272
        }
      },
      "source": [
        "endog = df[\"price\"]\n",
        "exog = sm.add_constant(df[[\"enginesize\", \"horsepower\", \"peakrpm\"]])\n",
        "print(exog)"
      ],
      "execution_count": 18,
      "outputs": [
        {
          "output_type": "stream",
          "text": [
            "     const  enginesize  horsepower  peakrpm\n",
            "0      1.0         130         111     5000\n",
            "1      1.0         130         111     5000\n",
            "2      1.0         152         154     5000\n",
            "3      1.0         109         102     5500\n",
            "4      1.0         136         115     5500\n",
            "..     ...         ...         ...      ...\n",
            "200    1.0         141         114     5400\n",
            "201    1.0         141         160     5300\n",
            "202    1.0         173         134     5500\n",
            "203    1.0         145         106     4800\n",
            "204    1.0         141         114     5400\n",
            "\n",
            "[205 rows x 4 columns]\n"
          ],
          "name": "stdout"
        }
      ]
    },
    {
      "cell_type": "code",
      "metadata": {
        "id": "IPqXhZ_ml-H0",
        "outputId": "fe51d88a-fe2c-403f-e3c9-ac689f467b35",
        "colab": {
          "base_uri": "https://localhost:8080/",
          "height": 1000
        }
      },
      "source": [
        "X = exog.to_numpy()\n",
        "Y = endog.to_numpy()\n",
        "m1_tp = np.transpose(X)\n",
        "print(tp)"
      ],
      "execution_count": 23,
      "outputs": [
        {
          "output_type": "stream",
          "text": [
            "[[1.00e+00 1.00e+00 1.00e+00 1.00e+00 1.00e+00 1.00e+00 1.00e+00 1.00e+00\n",
            "  1.00e+00 1.00e+00 1.00e+00 1.00e+00 1.00e+00 1.00e+00 1.00e+00 1.00e+00\n",
            "  1.00e+00 1.00e+00 1.00e+00 1.00e+00 1.00e+00 1.00e+00 1.00e+00 1.00e+00\n",
            "  1.00e+00 1.00e+00 1.00e+00 1.00e+00 1.00e+00 1.00e+00 1.00e+00 1.00e+00\n",
            "  1.00e+00 1.00e+00 1.00e+00 1.00e+00 1.00e+00 1.00e+00 1.00e+00 1.00e+00\n",
            "  1.00e+00 1.00e+00 1.00e+00 1.00e+00 1.00e+00 1.00e+00 1.00e+00 1.00e+00\n",
            "  1.00e+00 1.00e+00 1.00e+00 1.00e+00 1.00e+00 1.00e+00 1.00e+00 1.00e+00\n",
            "  1.00e+00 1.00e+00 1.00e+00 1.00e+00 1.00e+00 1.00e+00 1.00e+00 1.00e+00\n",
            "  1.00e+00 1.00e+00 1.00e+00 1.00e+00 1.00e+00 1.00e+00 1.00e+00 1.00e+00\n",
            "  1.00e+00 1.00e+00 1.00e+00 1.00e+00 1.00e+00 1.00e+00 1.00e+00 1.00e+00\n",
            "  1.00e+00 1.00e+00 1.00e+00 1.00e+00 1.00e+00 1.00e+00 1.00e+00 1.00e+00\n",
            "  1.00e+00 1.00e+00 1.00e+00 1.00e+00 1.00e+00 1.00e+00 1.00e+00 1.00e+00\n",
            "  1.00e+00 1.00e+00 1.00e+00 1.00e+00 1.00e+00 1.00e+00 1.00e+00 1.00e+00\n",
            "  1.00e+00 1.00e+00 1.00e+00 1.00e+00 1.00e+00 1.00e+00 1.00e+00 1.00e+00\n",
            "  1.00e+00 1.00e+00 1.00e+00 1.00e+00 1.00e+00 1.00e+00 1.00e+00 1.00e+00\n",
            "  1.00e+00 1.00e+00 1.00e+00 1.00e+00 1.00e+00 1.00e+00 1.00e+00 1.00e+00\n",
            "  1.00e+00 1.00e+00 1.00e+00 1.00e+00 1.00e+00 1.00e+00 1.00e+00 1.00e+00\n",
            "  1.00e+00 1.00e+00 1.00e+00 1.00e+00 1.00e+00 1.00e+00 1.00e+00 1.00e+00\n",
            "  1.00e+00 1.00e+00 1.00e+00 1.00e+00 1.00e+00 1.00e+00 1.00e+00 1.00e+00\n",
            "  1.00e+00 1.00e+00 1.00e+00 1.00e+00 1.00e+00 1.00e+00 1.00e+00 1.00e+00\n",
            "  1.00e+00 1.00e+00 1.00e+00 1.00e+00 1.00e+00 1.00e+00 1.00e+00 1.00e+00\n",
            "  1.00e+00 1.00e+00 1.00e+00 1.00e+00 1.00e+00 1.00e+00 1.00e+00 1.00e+00\n",
            "  1.00e+00 1.00e+00 1.00e+00 1.00e+00 1.00e+00 1.00e+00 1.00e+00 1.00e+00\n",
            "  1.00e+00 1.00e+00 1.00e+00 1.00e+00 1.00e+00 1.00e+00 1.00e+00 1.00e+00\n",
            "  1.00e+00 1.00e+00 1.00e+00 1.00e+00 1.00e+00 1.00e+00 1.00e+00 1.00e+00\n",
            "  1.00e+00 1.00e+00 1.00e+00 1.00e+00 1.00e+00]\n",
            " [1.30e+02 1.30e+02 1.52e+02 1.09e+02 1.36e+02 1.36e+02 1.36e+02 1.36e+02\n",
            "  1.31e+02 1.31e+02 1.08e+02 1.08e+02 1.64e+02 1.64e+02 1.64e+02 2.09e+02\n",
            "  2.09e+02 2.09e+02 6.10e+01 9.00e+01 9.00e+01 9.00e+01 9.00e+01 9.80e+01\n",
            "  9.00e+01 9.00e+01 9.00e+01 9.80e+01 1.22e+02 1.56e+02 9.20e+01 9.20e+01\n",
            "  7.90e+01 9.20e+01 9.20e+01 9.20e+01 9.20e+01 1.10e+02 1.10e+02 1.10e+02\n",
            "  1.10e+02 1.10e+02 1.10e+02 1.11e+02 9.00e+01 9.00e+01 1.19e+02 2.58e+02\n",
            "  2.58e+02 3.26e+02 9.10e+01 9.10e+01 9.10e+01 9.10e+01 9.10e+01 7.00e+01\n",
            "  7.00e+01 7.00e+01 8.00e+01 1.22e+02 1.22e+02 1.22e+02 1.22e+02 1.22e+02\n",
            "  1.22e+02 1.40e+02 1.34e+02 1.83e+02 1.83e+02 1.83e+02 1.83e+02 2.34e+02\n",
            "  2.34e+02 3.08e+02 3.04e+02 1.40e+02 9.20e+01 9.20e+01 9.20e+01 9.80e+01\n",
            "  1.10e+02 1.22e+02 1.56e+02 1.56e+02 1.56e+02 1.22e+02 1.22e+02 1.10e+02\n",
            "  1.10e+02 9.70e+01 1.03e+02 9.70e+01 9.70e+01 9.70e+01 9.70e+01 9.70e+01\n",
            "  9.70e+01 9.70e+01 9.70e+01 1.20e+02 1.20e+02 1.81e+02 1.81e+02 1.81e+02\n",
            "  1.81e+02 1.81e+02 1.81e+02 1.20e+02 1.52e+02 1.20e+02 1.52e+02 1.20e+02\n",
            "  1.52e+02 1.20e+02 1.52e+02 1.20e+02 1.52e+02 1.34e+02 9.00e+01 9.80e+01\n",
            "  9.00e+01 9.00e+01 9.80e+01 1.22e+02 1.56e+02 1.51e+02 1.94e+02 1.94e+02\n",
            "  1.94e+02 2.03e+02 1.32e+02 1.32e+02 1.21e+02 1.21e+02 1.21e+02 1.21e+02\n",
            "  1.21e+02 1.21e+02 9.70e+01 1.08e+02 1.08e+02 1.08e+02 1.08e+02 1.08e+02\n",
            "  1.08e+02 1.08e+02 1.08e+02 1.08e+02 1.08e+02 1.08e+02 9.20e+01 9.20e+01\n",
            "  9.20e+01 9.20e+01 9.20e+01 9.20e+01 9.80e+01 9.80e+01 1.10e+02 1.10e+02\n",
            "  9.80e+01 9.80e+01 9.80e+01 9.80e+01 9.80e+01 9.80e+01 9.80e+01 1.46e+02\n",
            "  1.46e+02 1.46e+02 1.46e+02 1.46e+02 1.46e+02 1.22e+02 1.10e+02 1.22e+02\n",
            "  1.22e+02 1.22e+02 1.71e+02 1.71e+02 1.71e+02 1.61e+02 9.70e+01 1.09e+02\n",
            "  9.70e+01 1.09e+02 1.09e+02 9.70e+01 1.09e+02 1.09e+02 1.09e+02 1.36e+02\n",
            "  9.70e+01 1.09e+02 1.41e+02 1.41e+02 1.41e+02 1.41e+02 1.30e+02 1.30e+02\n",
            "  1.41e+02 1.41e+02 1.73e+02 1.45e+02 1.41e+02]\n",
            " [1.11e+02 1.11e+02 1.54e+02 1.02e+02 1.15e+02 1.10e+02 1.10e+02 1.10e+02\n",
            "  1.40e+02 1.60e+02 1.01e+02 1.01e+02 1.21e+02 1.21e+02 1.21e+02 1.82e+02\n",
            "  1.82e+02 1.82e+02 4.80e+01 7.00e+01 7.00e+01 6.80e+01 6.80e+01 1.02e+02\n",
            "  6.80e+01 6.80e+01 6.80e+01 1.02e+02 8.80e+01 1.45e+02 5.80e+01 7.60e+01\n",
            "  6.00e+01 7.60e+01 7.60e+01 7.60e+01 7.60e+01 8.60e+01 8.60e+01 8.60e+01\n",
            "  8.60e+01 1.01e+02 1.00e+02 7.80e+01 7.00e+01 7.00e+01 9.00e+01 1.76e+02\n",
            "  1.76e+02 2.62e+02 6.80e+01 6.80e+01 6.80e+01 6.80e+01 6.80e+01 1.01e+02\n",
            "  1.01e+02 1.01e+02 1.35e+02 8.40e+01 8.40e+01 8.40e+01 8.40e+01 6.40e+01\n",
            "  8.40e+01 1.20e+02 7.20e+01 1.23e+02 1.23e+02 1.23e+02 1.23e+02 1.55e+02\n",
            "  1.55e+02 1.84e+02 1.84e+02 1.75e+02 6.80e+01 6.80e+01 6.80e+01 1.02e+02\n",
            "  1.16e+02 8.80e+01 1.45e+02 1.45e+02 1.45e+02 8.80e+01 8.80e+01 1.16e+02\n",
            "  1.16e+02 6.90e+01 5.50e+01 6.90e+01 6.90e+01 6.90e+01 6.90e+01 6.90e+01\n",
            "  6.90e+01 6.90e+01 6.90e+01 9.70e+01 9.70e+01 1.52e+02 1.52e+02 1.52e+02\n",
            "  1.60e+02 2.00e+02 1.60e+02 9.70e+01 9.50e+01 9.70e+01 9.50e+01 9.50e+01\n",
            "  9.50e+01 9.50e+01 9.50e+01 9.70e+01 9.50e+01 1.42e+02 6.80e+01 1.02e+02\n",
            "  6.80e+01 6.80e+01 6.80e+01 8.80e+01 1.45e+02 1.43e+02 2.07e+02 2.07e+02\n",
            "  2.07e+02 2.88e+02 9.00e+01 9.00e+01 1.10e+02 1.10e+02 1.10e+02 1.10e+02\n",
            "  1.60e+02 1.60e+02 6.90e+01 7.30e+01 7.30e+01 8.20e+01 8.20e+01 9.40e+01\n",
            "  8.20e+01 1.11e+02 8.20e+01 9.40e+01 8.20e+01 1.11e+02 6.20e+01 6.20e+01\n",
            "  6.20e+01 6.20e+01 6.20e+01 6.20e+01 7.00e+01 7.00e+01 5.60e+01 5.60e+01\n",
            "  7.00e+01 7.00e+01 7.00e+01 7.00e+01 7.00e+01 1.12e+02 1.12e+02 1.16e+02\n",
            "  1.16e+02 1.16e+02 1.16e+02 1.16e+02 1.16e+02 9.20e+01 7.30e+01 9.20e+01\n",
            "  9.20e+01 9.20e+01 1.61e+02 1.61e+02 1.56e+02 1.56e+02 5.20e+01 8.50e+01\n",
            "  5.20e+01 8.50e+01 8.50e+01 6.80e+01 1.00e+02 9.00e+01 9.00e+01 1.10e+02\n",
            "  6.80e+01 8.80e+01 1.14e+02 1.14e+02 1.14e+02 1.14e+02 1.62e+02 1.62e+02\n",
            "  1.14e+02 1.60e+02 1.34e+02 1.06e+02 1.14e+02]\n",
            " [5.00e+03 5.00e+03 5.00e+03 5.50e+03 5.50e+03 5.50e+03 5.50e+03 5.50e+03\n",
            "  5.50e+03 5.50e+03 5.80e+03 5.80e+03 4.25e+03 4.25e+03 4.25e+03 5.40e+03\n",
            "  5.40e+03 5.40e+03 5.10e+03 5.40e+03 5.40e+03 5.50e+03 5.50e+03 5.50e+03\n",
            "  5.50e+03 5.50e+03 5.50e+03 5.50e+03 5.00e+03 5.00e+03 4.80e+03 6.00e+03\n",
            "  5.50e+03 6.00e+03 6.00e+03 6.00e+03 6.00e+03 5.80e+03 5.80e+03 5.80e+03\n",
            "  5.80e+03 5.80e+03 5.50e+03 4.80e+03 5.40e+03 5.40e+03 5.00e+03 4.75e+03\n",
            "  4.75e+03 5.00e+03 5.00e+03 5.00e+03 5.00e+03 5.00e+03 5.00e+03 6.00e+03\n",
            "  6.00e+03 6.00e+03 6.00e+03 4.80e+03 4.80e+03 4.80e+03 4.80e+03 4.65e+03\n",
            "  4.80e+03 5.00e+03 4.20e+03 4.35e+03 4.35e+03 4.35e+03 4.35e+03 4.75e+03\n",
            "  4.75e+03 4.50e+03 4.50e+03 5.00e+03 5.50e+03 5.50e+03 5.50e+03 5.50e+03\n",
            "  5.50e+03 5.00e+03 5.00e+03 5.00e+03 5.00e+03 5.00e+03 5.00e+03 5.50e+03\n",
            "  5.50e+03 5.20e+03 4.80e+03 5.20e+03 5.20e+03 5.20e+03 5.20e+03 5.20e+03\n",
            "  5.20e+03 5.20e+03 5.20e+03 5.20e+03 5.20e+03 5.20e+03 5.20e+03 5.20e+03\n",
            "  5.20e+03 5.20e+03 5.20e+03 5.00e+03 4.15e+03 5.00e+03 4.15e+03 5.00e+03\n",
            "  4.15e+03 5.00e+03 4.15e+03 5.00e+03 4.15e+03 5.60e+03 5.50e+03 5.50e+03\n",
            "  5.50e+03 5.50e+03 5.50e+03 5.00e+03 5.00e+03 5.50e+03 5.90e+03 5.90e+03\n",
            "  5.90e+03 5.75e+03 5.10e+03 5.10e+03 5.25e+03 5.25e+03 5.25e+03 5.25e+03\n",
            "  5.50e+03 5.50e+03 4.90e+03 4.40e+03 4.40e+03 4.80e+03 4.40e+03 5.20e+03\n",
            "  4.80e+03 4.80e+03 4.80e+03 5.20e+03 4.80e+03 4.80e+03 4.80e+03 4.80e+03\n",
            "  4.80e+03 4.80e+03 4.80e+03 4.80e+03 4.80e+03 4.80e+03 4.50e+03 4.50e+03\n",
            "  4.80e+03 4.80e+03 4.80e+03 4.80e+03 4.80e+03 6.60e+03 6.60e+03 4.80e+03\n",
            "  4.80e+03 4.80e+03 4.80e+03 4.80e+03 4.80e+03 4.20e+03 4.50e+03 4.20e+03\n",
            "  4.20e+03 4.20e+03 5.20e+03 5.20e+03 5.20e+03 5.20e+03 4.80e+03 5.25e+03\n",
            "  4.80e+03 5.25e+03 5.25e+03 4.50e+03 5.50e+03 5.50e+03 5.50e+03 5.50e+03\n",
            "  4.50e+03 5.50e+03 5.40e+03 5.40e+03 5.40e+03 5.40e+03 5.10e+03 5.10e+03\n",
            "  5.40e+03 5.30e+03 5.50e+03 4.80e+03 5.40e+03]]\n"
          ],
          "name": "stdout"
        }
      ]
    },
    {
      "cell_type": "code",
      "metadata": {
        "id": "VTfmTDRLv4_c",
        "outputId": "51995337-468c-4ae5-be68-4477395658ef",
        "colab": {
          "base_uri": "https://localhost:8080/",
          "height": 90
        }
      },
      "source": [
        "m2_mul1 = np.matmul(m1_tp, X)\n",
        "print(m2_mul1)"
      ],
      "execution_count": 24,
      "outputs": [
        {
          "output_type": "stream",
          "text": [
            "[[2.0500000e+02 2.6016000e+04 2.1344000e+04 1.0506500e+06]\n",
            " [2.6016000e+04 3.6553800e+06 2.9807370e+06 1.3234380e+08]\n",
            " [2.1344000e+04 2.9807370e+06 2.5412780e+06 1.0989495e+08]\n",
            " [1.0506500e+06 1.3234380e+08 1.0989495e+08 5.4311225e+09]]\n"
          ],
          "name": "stdout"
        }
      ]
    },
    {
      "cell_type": "code",
      "metadata": {
        "id": "QbLOzfiDwzUn",
        "outputId": "26648cae-dbea-4aaf-921c-da12d4ee3151",
        "colab": {
          "base_uri": "https://localhost:8080/",
          "height": 90
        }
      },
      "source": [
        "m3_inv = np.linalg.inv(m2_mul1)\n",
        "print(m3_inv)"
      ],
      "execution_count": 25,
      "outputs": [
        {
          "output_type": "stream",
          "text": [
            "[[ 1.05745227e+00 -2.48656559e-03  2.08844699e-03 -1.86230465e-04]\n",
            " [-2.48656559e-03  1.29038938e-05 -1.16394136e-05  4.02103353e-07]\n",
            " [ 2.08844699e-03 -1.16394136e-05  1.36884040e-05 -3.97359677e-07]\n",
            " [-1.86230465e-04  4.02103353e-07 -3.97359677e-07  3.44523575e-08]]\n"
          ],
          "name": "stdout"
        }
      ]
    },
    {
      "cell_type": "code",
      "metadata": {
        "id": "PIvI_vUPxVMZ",
        "outputId": "1b7e5f71-c5bf-4d75-c00e-22fd54435f2b",
        "colab": {
          "base_uri": "https://localhost:8080/",
          "height": 1000
        }
      },
      "source": [
        "m4_mul = np.matmul(m3_inv, m1_tp)\n",
        "print(m4_mul)"
      ],
      "execution_count": 26,
      "outputs": [
        {
          "output_type": "stream",
          "text": [
            "[[ 3.48640368e-02  3.48640368e-02  6.99628143e-02 -2.48293412e-02\n",
            "  -6.48168012e-02 -7.52590361e-02 -7.52590361e-02 -7.52590361e-02\n",
            "  -1.72798585e-04  4.15961412e-02 -8.03003620e-02 -8.03003620e-02\n",
            "   1.10878125e-01  1.10878125e-01  1.10878125e-01 -8.77870944e-02\n",
            "  -8.77870944e-02 -8.77870944e-02  5.62418556e-02 -2.57918521e-02\n",
            "  -2.57918521e-02 -4.85917926e-02 -4.85917926e-02  2.52288027e-03\n",
            "  -4.85917926e-02 -4.85917926e-02 -4.85917926e-02  2.52288027e-03\n",
            "   6.72228077e-03  4.12205291e-02  5.59119317e-02 -1.29972580e-01\n",
            "  -3.79471470e-02 -1.29972580e-01 -1.29972580e-01 -1.29972580e-01\n",
            "  -1.29972580e-01 -1.16600198e-01 -1.16600198e-01 -1.16600198e-01\n",
            "  -1.16600198e-01 -8.52734932e-02 -3.14928007e-02  5.04361253e-02\n",
            "  -2.57918521e-02 -2.57918521e-02  1.83588715e-02 -1.01109688e-01\n",
            "  -1.01109688e-01 -1.37147323e-01  4.20368742e-02  4.20368742e-02\n",
            "   4.20368742e-02  4.20368742e-02  4.20368742e-02 -2.30569627e-02\n",
            "  -2.30569627e-02 -2.30569627e-02  2.30845790e-02  3.56145858e-02\n",
            "   3.56145858e-02  3.56145858e-02  3.56145858e-02  2.17802158e-02\n",
            "   3.56145858e-02  2.87944038e-02  9.24527138e-02  4.91872266e-02\n",
            "   4.91872266e-02  4.91872266e-02  4.91872266e-02 -8.52895006e-02\n",
            "  -8.52895006e-02 -1.62172775e-01 -1.52226513e-01  1.43658988e-01\n",
            "  -5.35649238e-02 -5.35649238e-02 -5.35649238e-02  2.52288027e-03\n",
            "   1.92235105e-03  6.72228077e-03  4.12205291e-02  4.12205291e-02\n",
            "   4.12205291e-02  6.72228077e-03  6.72228077e-03  1.92235105e-03\n",
            "   1.92235105e-03 -8.04016528e-03  2.22943693e-02 -8.04016528e-03\n",
            "  -8.04016528e-03 -8.04016528e-03 -8.04016528e-03 -8.04016528e-03\n",
            "  -8.04016528e-03 -8.04016528e-03 -8.04016528e-03 -6.75465814e-03\n",
            "  -6.75465814e-03 -4.35705746e-02 -4.35705746e-02 -4.35705746e-02\n",
            "  -2.68629987e-02  5.66748807e-02 -2.68629987e-02  3.04914348e-02\n",
            "   1.05040337e-01  3.04914348e-02  1.05040337e-01  2.63145408e-02\n",
            "   1.05040337e-01  2.63145408e-02  1.05040337e-01  3.04914348e-02\n",
            "   1.05040337e-01 -2.20786479e-02 -4.85917926e-02  2.52288027e-03\n",
            "  -4.85917926e-02 -4.85917926e-02 -6.84843173e-02  6.72228077e-03\n",
            "   4.12205291e-02 -4.36387694e-02 -9.13926683e-02 -9.13926683e-02\n",
            "  -9.13926683e-02  8.33270171e-02 -3.25895276e-02 -3.25895276e-02\n",
            "   8.59706387e-03  8.59706387e-03  8.59706387e-03  8.59706387e-03\n",
            "   6.64617970e-02  6.64617970e-02  4.78289742e-02  1.21945773e-01\n",
            "   1.21945773e-01  6.62496100e-02  1.40741796e-01  1.68187879e-02\n",
            "   6.62496100e-02  1.26814573e-01  6.62496100e-02  1.68187879e-02\n",
            "   6.62496100e-02  1.26814573e-01  6.42657197e-02  6.42657197e-02\n",
            "   6.42657197e-02  6.42657197e-02  6.42657197e-02  6.42657197e-02\n",
            "   6.60539020e-02  6.60539020e-02  6.28459966e-02  6.28459966e-02\n",
            "   6.60539020e-02  6.60539020e-02  6.60539020e-02  6.60539020e-02\n",
            "   6.60539020e-02 -1.81446161e-01 -1.81446161e-01  4.27673153e-02\n",
            "   4.27673153e-02  4.27673153e-02  4.27673153e-02  4.27673153e-02\n",
            "   4.27673153e-02  1.64060441e-01  9.83495954e-02  1.64060441e-01\n",
            "   1.64060441e-01  1.64060441e-01  9.11041095e-05  9.11041095e-05\n",
            "  -1.03511308e-02  1.45145250e-02  3.09484219e-02 -1.37753238e-02\n",
            "   3.09484219e-02 -1.37753238e-02 -1.37753238e-02  1.20232713e-01\n",
            "  -2.90062352e-02 -4.98907050e-02 -4.98907050e-02 -7.52590361e-02\n",
            "   1.20232713e-01 -5.40675990e-02 -6.07150296e-02 -6.07150296e-02\n",
            "  -6.07150296e-02 -6.07150296e-02  1.22751787e-01  1.22751787e-01\n",
            "  -6.07150296e-02  5.39765782e-02 -1.17139235e-01  2.43694110e-02\n",
            "  -6.07150296e-02]\n",
            " [-9.05175360e-05 -9.05175360e-05 -3.07126656e-04 -5.56929068e-05\n",
            "   1.41399849e-04  1.99596917e-04  1.99596917e-04  1.99596917e-04\n",
            "  -2.14104959e-04 -4.46893230e-04  6.36736188e-05  6.36736188e-05\n",
            "  -6.97567978e-05 -6.97567978e-05 -6.97567978e-05  2.63333051e-04\n",
            "   2.63333051e-04  2.63333051e-04 -2.07392817e-04  3.13840099e-05\n",
            "   3.13840099e-05  9.48731723e-05  9.48731723e-05 -1.97635738e-04\n",
            "   9.48731723e-05  9.48731723e-05  9.48731723e-05 -1.97635738e-04\n",
            "   7.39578256e-05 -1.50756359e-04 -4.43972516e-05  2.28617328e-04\n",
            "   4.60456492e-05  2.28617328e-04  2.28617328e-04  2.28617328e-04\n",
            "   2.28617328e-04  2.64072610e-04  2.64072610e-04  2.64072610e-04\n",
            "   2.64072610e-04  8.94814064e-05 -1.95101860e-05 -3.20115410e-05\n",
            "   3.13840099e-05  3.13840099e-05  1.19673172e-05  7.04093148e-04\n",
            "   7.04093148e-04  6.81094197e-04 -9.32746104e-05 -9.32746104e-05\n",
            "  -9.32746104e-05 -9.32746104e-05 -9.32746104e-05 -3.46253674e-04\n",
            "  -3.46253674e-04 -3.46253674e-04 -6.12954797e-04  4.00948093e-05\n",
            "   4.00948093e-05  4.00948093e-05  4.00948093e-05  2.12567577e-04\n",
            "   4.00948093e-05 -6.62333202e-05  9.33524855e-05  1.92348692e-04\n",
            "   1.92348692e-04  1.92348692e-04  1.92348692e-04  6.38827382e-04\n",
            "   6.38827382e-04  1.15564669e-03  1.10403112e-03 -7.06401066e-04\n",
            "   1.20680960e-04  1.20680960e-04  1.20680960e-04 -1.97635738e-04\n",
            "  -2.05740803e-04  7.39578256e-05 -1.50756359e-04 -1.50756359e-04\n",
            "  -1.50756359e-04  7.39578256e-05  7.39578256e-05 -2.05740803e-04\n",
            "  -2.05740803e-04  5.29300093e-05  1.32463821e-04  5.29300093e-05\n",
            "   5.29300093e-05  5.29300093e-05  5.29300093e-05  5.29300093e-05\n",
            "   5.29300093e-05  5.29300093e-05  5.29300093e-05  2.38159866e-05\n",
            "   2.38159866e-05  1.70785761e-04  1.70785761e-04  1.70785761e-04\n",
            "   7.76704530e-05 -3.87906089e-04  7.76704530e-05 -5.66046840e-05\n",
            "   3.78108941e-05 -5.66046840e-05  3.78108941e-05 -3.33258568e-05\n",
            "   3.78108941e-05 -3.33258568e-05  3.78108941e-05 -5.66046840e-05\n",
            "   3.78108941e-05 -1.58461769e-04  9.48731723e-05 -1.97635738e-04\n",
            "   9.48731723e-05  9.48731723e-05  1.98104323e-04  7.39578256e-05\n",
            "  -1.50756359e-04  9.05467597e-06 -2.01590181e-05 -2.01590181e-05\n",
            "  -2.01590181e-05 -9.07131975e-04  2.19928272e-04  2.19928272e-04\n",
            "  -9.44873282e-05 -9.44873282e-05 -9.44873282e-05 -9.44873282e-05\n",
            "  -5.75932168e-04 -5.75932168e-04 -6.77009965e-05 -1.73367496e-04\n",
            "  -1.73367496e-04 -1.17280877e-04 -2.78122218e-04 -9.61124980e-05\n",
            "  -1.17280877e-04 -4.54823870e-04 -1.17280877e-04 -9.61124980e-05\n",
            "  -1.17280877e-04 -4.54823870e-04 -9.09549058e-05 -9.09549058e-05\n",
            "  -9.09549058e-05 -9.09549058e-05 -9.09549058e-05 -9.09549058e-05\n",
            "  -1.06646852e-04 -1.06646852e-04  9.05206577e-05  9.05206577e-05\n",
            "  -1.06646852e-04 -1.06646852e-04 -1.06646852e-04 -1.06646852e-04\n",
            "  -1.06646852e-04  1.28283814e-04  1.28283814e-04 -2.26729739e-05\n",
            "  -2.26729739e-05 -2.26729739e-05 -2.26729739e-05 -2.26729739e-05\n",
            "  -2.26729739e-05 -2.94282511e-04 -1.07349373e-04 -2.94282511e-04\n",
            "  -2.94282511e-04 -2.94282511e-04 -6.30078984e-05 -6.30078984e-05\n",
            "  -4.81083059e-06 -1.33849768e-04  8.99586987e-05  4.16512854e-05\n",
            "   8.99586987e-05  4.16512854e-05  4.16512854e-05 -2.16902924e-04\n",
            "  -3.24140797e-05  8.39800558e-05  8.39800558e-05  1.99596917e-04\n",
            "  -2.16902924e-04  1.07258883e-04  1.77348396e-04  1.77348396e-04\n",
            "   1.77348396e-04  1.77348396e-04 -6.43917292e-04 -6.43917292e-04\n",
            "   1.77348396e-04 -3.98274963e-04  3.97695061e-04  8.08172679e-05\n",
            "   1.77348396e-04]\n",
            " [ 1.07937686e-04  1.07937686e-04  4.40471961e-04  3.04898958e-05\n",
            "  -1.05825018e-04 -1.74267038e-04 -1.74267038e-04 -1.74267038e-04\n",
            "   2.94582151e-04  5.68350231e-04 -9.07669978e-05 -9.07669978e-05\n",
            "   1.47101423e-04  1.47101423e-04  1.47101423e-04  1.35682984e-06\n",
            "   1.35682984e-06  1.35682984e-06  8.95179998e-06 -1.46654208e-04\n",
            "  -1.46654208e-04 -2.13766984e-04 -2.13766984e-04  1.58523445e-04\n",
            "  -2.13766984e-04 -2.13766984e-04 -2.13766984e-04  1.58523445e-04\n",
            "  -1.13780298e-04  2.70718670e-04 -9.57780769e-05 -3.26218417e-04\n",
            "  -1.95240667e-04 -3.26218417e-04 -3.26218417e-04 -3.26218417e-04\n",
            "  -3.26218417e-04 -3.19371885e-04 -3.19371885e-04 -3.19371885e-04\n",
            "  -3.19371885e-04 -1.14045825e-04 -8.52632583e-06 -4.31588540e-05\n",
            "  -1.46654208e-04 -1.46654208e-04 -5.14852495e-05 -3.92821069e-04\n",
            "  -3.92821069e-04 -1.06438363e-04 -2.67265585e-05 -2.67265585e-05\n",
            "  -2.67265585e-05 -2.67265585e-05 -2.67265585e-05  2.72058782e-04\n",
            "   2.72058782e-04  2.72058782e-04  6.21070383e-04 -8.90619790e-05\n",
            "  -8.90619790e-05 -8.90619790e-05 -8.90619790e-05 -3.03226108e-04\n",
            "  -8.90619790e-05  1.14739187e-04 -1.54579984e-04 -8.64065942e-05\n",
            "  -8.64065942e-05 -8.64065942e-05 -8.64065942e-05 -4.00931628e-04\n",
            "  -4.00931628e-04 -7.65944595e-04 -7.19386941e-04  8.67601408e-04\n",
            "  -2.37045811e-04 -2.37045811e-04 -2.37045811e-04  1.58523445e-04\n",
            "   2.10488139e-04 -1.13780298e-04  2.70718670e-04  2.70718670e-04\n",
            "   2.70718670e-04 -1.13780298e-04 -1.13780298e-04  2.10488139e-04\n",
            "   2.10488139e-04 -1.62346571e-04 -2.64876838e-04 -1.62346571e-04\n",
            "  -1.62346571e-04 -1.62346571e-04 -1.62346571e-04 -1.62346571e-04\n",
            "  -1.62346571e-04 -1.62346571e-04 -1.62346571e-04 -4.67777703e-05\n",
            "  -4.67777703e-05 -3.91977591e-06 -3.91977591e-06 -3.91977591e-06\n",
            "   1.05587456e-04  6.53123617e-04  1.05587456e-04  3.26941651e-05\n",
            "  -2.93881513e-05  3.26941651e-05 -2.93881513e-05  5.31735703e-06\n",
            "  -2.93881513e-05  5.31735703e-06 -2.93881513e-05  3.26941651e-05\n",
            "  -2.93881513e-05  2.47304750e-04 -2.13766984e-04  1.58523445e-04\n",
            "  -2.13766984e-04 -2.13766984e-04 -3.06882292e-04 -1.13780298e-04\n",
            "   2.70718670e-04  1.02859091e-04  3.19478295e-04  3.19478295e-04\n",
            "   3.19478295e-04  1.38308825e-03 -2.42533594e-04 -2.42533594e-04\n",
            "   9.96640846e-05  9.96640846e-05  9.96640846e-05  9.96640846e-05\n",
            "   6.84744367e-04  6.84744367e-04 -4.31386681e-05  8.22612374e-05\n",
            "   8.22612374e-05  4.65130028e-05  2.05456874e-04  5.18299803e-05\n",
            "   4.65130028e-05  4.43476720e-04  4.65130028e-05  5.18299803e-05\n",
            "   4.65130028e-05  4.43476720e-04 -4.10244608e-05 -4.10244608e-05\n",
            "  -4.10244608e-05 -4.10244608e-05 -4.10244608e-05 -4.10244608e-05\n",
            "  -1.35370994e-06 -1.35370994e-06 -2.13456426e-04 -2.13456426e-04\n",
            "  -1.35370994e-06 -1.35370994e-06 -1.35370994e-06 -1.35370994e-06\n",
            "  -1.35370994e-06 -1.41688160e-04 -1.41688160e-04  6.96210245e-05\n",
            "   6.96210245e-05  6.96210245e-05  6.96210245e-05  6.96210245e-05\n",
            "   6.96210245e-05  2.58861060e-04  1.92464426e-05  2.58861060e-04\n",
            "   2.58861060e-04  2.58861060e-04  2.35669996e-04  2.35669996e-04\n",
            "   1.67227976e-04  2.83622111e-04 -2.36105569e-04 -1.02873053e-04\n",
            "  -2.36105569e-04 -1.02873053e-04 -1.02873053e-04  1.02116799e-04\n",
            "   3.11308773e-06 -1.33770953e-04 -1.33770953e-04 -1.74267038e-04\n",
            "   1.02116799e-04 -1.61147761e-04 -1.37974522e-04 -1.37974522e-04\n",
            "  -1.37974522e-04 -1.37974522e-04  7.66310324e-04  7.66310324e-04\n",
            "  -1.37974522e-04  5.31428031e-04 -2.76403643e-04 -5.56236022e-05\n",
            "  -1.37974522e-04]\n",
            " [-5.80216560e-06 -5.80216560e-06 -1.40423580e-05  6.55607983e-06\n",
            "   1.22471946e-05  1.42339929e-05  1.42339929e-05  1.42339929e-05\n",
            "   3.02685862e-07 -7.64450768e-06  1.68870434e-05  1.68870434e-05\n",
            "  -2.19435165e-05 -2.19435165e-05 -2.19435165e-05  1.15324052e-05\n",
            "   1.15324052e-05  1.15324052e-05 -5.06840154e-06  8.18639004e-06\n",
            "   8.18639004e-06  1.24263451e-05  1.24263451e-05  2.13294295e-06\n",
            "   1.24263451e-05  1.24263451e-05  1.24263451e-05  2.13294295e-06\n",
            "   1.20280149e-07 -8.85770745e-06 -6.91250162e-06  2.72778532e-05\n",
            "   1.11820857e-05  2.72778532e-05  2.72778532e-05  2.72778532e-05\n",
            "   2.72778532e-05  2.36516453e-05  2.36516453e-05  2.36516453e-05\n",
            "   2.36516453e-05  1.76912501e-05  7.75290254e-06 -7.21973146e-06\n",
            "   8.18639004e-06  8.18639004e-06 -1.88074926e-06  1.12255952e-05\n",
            "   1.12255952e-05  1.30087803e-05 -4.39773025e-06 -4.39773025e-06\n",
            "  -4.39773025e-06 -4.39773025e-06 -4.39773025e-06  8.49758749e-06\n",
            "   8.49758749e-06  8.49758749e-06 -9.91608004e-07 -5.18075264e-06\n",
            "  -5.18075264e-06 -5.18075264e-06 -5.18075264e-06 -2.40141272e-06\n",
            "  -5.18075264e-06 -5.35736917e-06 -1.62586108e-05 -1.16530364e-05\n",
            "  -1.16530364e-05 -1.16530364e-05 -1.16530364e-05  9.91966793e-06\n",
            "   9.91966793e-06  1.95387960e-05  1.79303826e-05 -2.72121514e-05\n",
            "   1.32305519e-05  1.32305519e-05  1.32305519e-05  2.13294295e-06\n",
            "   1.39514770e-06  1.20280149e-07 -8.85770745e-06 -8.85770745e-06\n",
            "  -8.85770745e-06  1.20280149e-07  1.20280149e-07  1.39514770e-06\n",
            "   1.39514770e-06  4.50800169e-06 -1.29728571e-06  4.50800169e-06\n",
            "   4.50800169e-06  4.50800169e-06  4.50800169e-06  4.50800169e-06\n",
            "   4.50800169e-06  4.50800169e-06  4.50800169e-06  2.63030785e-06\n",
            "   2.63030785e-06  5.30383013e-06  5.30383013e-06  5.30383013e-06\n",
            "   2.12495272e-06 -1.37694344e-05  2.12495272e-06 -4.26016365e-06\n",
            "  -1.98826409e-05 -4.26016365e-06 -1.98826409e-05 -3.46544430e-06\n",
            "  -1.98826409e-05 -3.46544430e-06 -1.98826409e-05 -4.26016365e-06\n",
            "  -1.98826409e-05  4.15951232e-06  1.24263451e-05  2.13294295e-06\n",
            "   1.24263451e-05  1.24263451e-05  1.56431720e-05  1.20280149e-07\n",
            "  -8.85770745e-06  7.15267389e-06  1.27930417e-05  1.27930417e-05\n",
            "   1.27930417e-05 -2.09420156e-05  6.79183007e-06  6.79183007e-06\n",
            "  -4.10646727e-07 -4.10646727e-07 -4.10646727e-07 -4.10646727e-07\n",
            "  -1.16655412e-05 -1.16655412e-05 -5.82770556e-06 -2.02201861e-05\n",
            "  -2.02201861e-05 -1.00154802e-05 -2.37964232e-05 -1.00285336e-06\n",
            "  -1.00154802e-05 -2.15389109e-05 -1.00154802e-05 -1.00285336e-06\n",
            "  -1.00154802e-05 -2.15389109e-05 -8.50194033e-06 -8.50194033e-06\n",
            "  -8.50194033e-06 -8.50194033e-06 -8.50194033e-06 -8.50194033e-06\n",
            "  -9.26819763e-06 -9.26819763e-06 -9.21562917e-06 -9.21562917e-06\n",
            "  -9.26819763e-06 -9.26819763e-06 -9.26819763e-06 -9.26819763e-06\n",
            "  -9.26819763e-06  3.60569394e-05  3.60569394e-05 -8.24578184e-06\n",
            "  -8.24578184e-06 -8.24578184e-06 -8.24578184e-06 -8.24578184e-06\n",
            "  -8.24578184e-06 -2.90310446e-05 -1.59707437e-05 -2.90310446e-05\n",
            "  -2.90310446e-05 -2.90310446e-05 -2.29344049e-06 -2.29344049e-06\n",
            "  -3.06642104e-07 -4.32767563e-06 -2.51782680e-06  4.69810497e-06\n",
            "  -2.51782680e-06  4.69810497e-06  4.69810497e-06 -1.92112889e-05\n",
            "   7.35079918e-06  1.13243960e-05  1.13243960e-05  1.42339929e-05\n",
            "  -1.92112889e-05  1.21191153e-05  1.12098352e-05  1.12098352e-05\n",
            "   1.12098352e-05  1.12098352e-05 -2.26222734e-05 -2.26222734e-05\n",
            "   1.12098352e-05 -1.05139457e-05  1.95751847e-05 -4.67428842e-06\n",
            "   1.12098352e-05]]\n"
          ],
          "name": "stdout"
        }
      ]
    },
    {
      "cell_type": "code",
      "metadata": {
        "id": "HywnT0sEx0Vc",
        "outputId": "d5e47f90-83b2-4af2-bf3b-58f357af0bce",
        "colab": {
          "base_uri": "https://localhost:8080/",
          "height": 35
        }
      },
      "source": [
        "m5_result = np.matmul(m4_mul, Y)\n",
        "print(m5_result)"
      ],
      "execution_count": 29,
      "outputs": [
        {
          "output_type": "stream",
          "text": [
            "[-1.31252357e+04  1.32671775e+02  4.87432865e+01  8.76060910e-01]\n"
          ],
          "name": "stdout"
        }
      ]
    },
    {
      "cell_type": "code",
      "metadata": {
        "id": "LzON0dICyysj",
        "outputId": "95592607-613a-4bd4-ca7a-20abf17602a5",
        "colab": {
          "base_uri": "https://localhost:8080/",
          "height": 545
        }
      },
      "source": [
        "mod = sm.OLS(endog, exog)\n",
        "results = mod.fit()\n",
        "print(results.summary())"
      ],
      "execution_count": 30,
      "outputs": [
        {
          "output_type": "stream",
          "text": [
            "                            OLS Regression Results                            \n",
            "==============================================================================\n",
            "Dep. Variable:                  price   R-squared:                       0.795\n",
            "Model:                            OLS   Adj. R-squared:                  0.792\n",
            "Method:                 Least Squares   F-statistic:                     259.9\n",
            "Date:                Sun, 18 Oct 2020   Prob (F-statistic):           6.70e-69\n",
            "Time:                        08:20:41   Log-Likelihood:                -1970.0\n",
            "No. Observations:                 205   AIC:                             3948.\n",
            "Df Residuals:                     201   BIC:                             3961.\n",
            "Df Model:                           3                                         \n",
            "Covariance Type:            nonrobust                                         \n",
            "==============================================================================\n",
            "                 coef    std err          t      P>|t|      [0.025      0.975]\n",
            "------------------------------------------------------------------------------\n",
            "const      -1.313e+04   3746.743     -3.503      0.001   -2.05e+04   -5737.271\n",
            "enginesize   132.6718     13.088     10.137      0.000     106.864     158.480\n",
            "horsepower    48.7433     13.480      3.616      0.000      22.162      75.324\n",
            "peakrpm        0.8761      0.676      1.295      0.197      -0.457       2.210\n",
            "==============================================================================\n",
            "Omnibus:                       10.547   Durbin-Watson:                   0.766\n",
            "Prob(Omnibus):                  0.005   Jarque-Bera (JB):               16.340\n",
            "Skew:                           0.293   Prob(JB):                     0.000283\n",
            "Kurtosis:                       4.253   Cond. No.                     7.58e+04\n",
            "==============================================================================\n",
            "\n",
            "Warnings:\n",
            "[1] Standard Errors assume that the covariance matrix of the errors is correctly specified.\n",
            "[2] The condition number is large, 7.58e+04. This might indicate that there are\n",
            "strong multicollinearity or other numerical problems.\n"
          ],
          "name": "stdout"
        }
      ]
    },
    {
      "cell_type": "code",
      "metadata": {
        "id": "6fPDwkF3zeVj",
        "outputId": "e9e9147e-69a5-44ba-c731-f47ecae89995",
        "colab": {
          "base_uri": "https://localhost:8080/",
          "height": 35
        }
      },
      "source": [
        "from sklearn import linear_model\n",
        "x = df[[\"enginesize\", \"horsepower\", \"peakrpm\"]]\n",
        "y = df[\"price\"]\n",
        "lm = linear_model.LinearRegression()\n",
        "linreg = lm.fit(x, y)\n",
        "lm.coef_"
      ],
      "execution_count": 33,
      "outputs": [
        {
          "output_type": "execute_result",
          "data": {
            "text/plain": [
              "array([132.67177482,  48.74328646,   0.87606091])"
            ]
          },
          "metadata": {
            "tags": []
          },
          "execution_count": 33
        }
      ]
    },
    {
      "cell_type": "code",
      "metadata": {
        "id": "cYE8PNC_zc4s",
        "outputId": "a3b82e61-84ee-4342-e20f-17a7d0198687",
        "colab": {
          "base_uri": "https://localhost:8080/",
          "height": 35
        }
      },
      "source": [
        "lm.intercept_"
      ],
      "execution_count": 34,
      "outputs": [
        {
          "output_type": "execute_result",
          "data": {
            "text/plain": [
              "-13125.235746663955"
            ]
          },
          "metadata": {
            "tags": []
          },
          "execution_count": 34
        }
      ]
    }
  ]
}